{
 "cells": [
  {
   "cell_type": "code",
   "execution_count": 1,
   "id": "ea75942c",
   "metadata": {},
   "outputs": [],
   "source": [
    "import numpy as np\n",
    "import pandas as pd\n",
    "import seaborn as sns\n",
    "import matplotlib.pyplot as plt\n",
    "import statsmodels.api as sma\n",
    "from scipy import stats\n",
    "\n",
    "from statsmodels.stats.outliers_influence import variance_inflation_factor"
   ]
  },
  {
   "cell_type": "code",
   "execution_count": 2,
   "id": "444608d0",
   "metadata": {},
   "outputs": [],
   "source": [
    "data = pd.read_excel('Concrete_Data.xlsx')"
   ]
  },
  {
   "cell_type": "code",
   "execution_count": 3,
   "id": "11cfc3ff",
   "metadata": {},
   "outputs": [
    {
     "data": {
      "text/html": [
       "<div>\n",
       "<style scoped>\n",
       "    .dataframe tbody tr th:only-of-type {\n",
       "        vertical-align: middle;\n",
       "    }\n",
       "\n",
       "    .dataframe tbody tr th {\n",
       "        vertical-align: top;\n",
       "    }\n",
       "\n",
       "    .dataframe thead th {\n",
       "        text-align: right;\n",
       "    }\n",
       "</style>\n",
       "<table border=\"1\" class=\"dataframe\">\n",
       "  <thead>\n",
       "    <tr style=\"text-align: right;\">\n",
       "      <th></th>\n",
       "      <th>Cement</th>\n",
       "      <th>Blast Furnace Slag</th>\n",
       "      <th>Fly Ash</th>\n",
       "      <th>Water</th>\n",
       "      <th>Superplasticizer</th>\n",
       "      <th>Coarse Aggregate</th>\n",
       "      <th>Fine Aggregate</th>\n",
       "      <th>Age</th>\n",
       "      <th>CCS</th>\n",
       "    </tr>\n",
       "  </thead>\n",
       "  <tbody>\n",
       "    <tr>\n",
       "      <th>0</th>\n",
       "      <td>540.0</td>\n",
       "      <td>0.0</td>\n",
       "      <td>0.0</td>\n",
       "      <td>162.0</td>\n",
       "      <td>2.5</td>\n",
       "      <td>1040.0</td>\n",
       "      <td>676.0</td>\n",
       "      <td>28</td>\n",
       "      <td>79.986111</td>\n",
       "    </tr>\n",
       "    <tr>\n",
       "      <th>1</th>\n",
       "      <td>540.0</td>\n",
       "      <td>0.0</td>\n",
       "      <td>0.0</td>\n",
       "      <td>162.0</td>\n",
       "      <td>2.5</td>\n",
       "      <td>1055.0</td>\n",
       "      <td>676.0</td>\n",
       "      <td>28</td>\n",
       "      <td>61.887366</td>\n",
       "    </tr>\n",
       "    <tr>\n",
       "      <th>2</th>\n",
       "      <td>332.5</td>\n",
       "      <td>142.5</td>\n",
       "      <td>0.0</td>\n",
       "      <td>228.0</td>\n",
       "      <td>0.0</td>\n",
       "      <td>932.0</td>\n",
       "      <td>594.0</td>\n",
       "      <td>270</td>\n",
       "      <td>40.269535</td>\n",
       "    </tr>\n",
       "    <tr>\n",
       "      <th>3</th>\n",
       "      <td>332.5</td>\n",
       "      <td>142.5</td>\n",
       "      <td>0.0</td>\n",
       "      <td>228.0</td>\n",
       "      <td>0.0</td>\n",
       "      <td>932.0</td>\n",
       "      <td>594.0</td>\n",
       "      <td>365</td>\n",
       "      <td>41.052780</td>\n",
       "    </tr>\n",
       "    <tr>\n",
       "      <th>4</th>\n",
       "      <td>198.6</td>\n",
       "      <td>132.4</td>\n",
       "      <td>0.0</td>\n",
       "      <td>192.0</td>\n",
       "      <td>0.0</td>\n",
       "      <td>978.4</td>\n",
       "      <td>825.5</td>\n",
       "      <td>360</td>\n",
       "      <td>44.296075</td>\n",
       "    </tr>\n",
       "  </tbody>\n",
       "</table>\n",
       "</div>"
      ],
      "text/plain": [
       "   Cement   Blast Furnace Slag   Fly Ash  Water  Superplasticizer  \\\n",
       "0    540.0                  0.0      0.0  162.0               2.5   \n",
       "1    540.0                  0.0      0.0  162.0               2.5   \n",
       "2    332.5                142.5      0.0  228.0               0.0   \n",
       "3    332.5                142.5      0.0  228.0               0.0   \n",
       "4    198.6                132.4      0.0  192.0               0.0   \n",
       "\n",
       "   Coarse Aggregate  Fine Aggregate  Age        CCS  \n",
       "0            1040.0           676.0   28  79.986111  \n",
       "1            1055.0           676.0   28  61.887366  \n",
       "2             932.0           594.0  270  40.269535  \n",
       "3             932.0           594.0  365  41.052780  \n",
       "4             978.4           825.5  360  44.296075  "
      ]
     },
     "execution_count": 3,
     "metadata": {},
     "output_type": "execute_result"
    }
   ],
   "source": [
    "data.head(5)"
   ]
  },
  {
   "cell_type": "code",
   "execution_count": 4,
   "id": "c0552dd9",
   "metadata": {},
   "outputs": [
    {
     "data": {
      "text/html": [
       "<div>\n",
       "<style scoped>\n",
       "    .dataframe tbody tr th:only-of-type {\n",
       "        vertical-align: middle;\n",
       "    }\n",
       "\n",
       "    .dataframe tbody tr th {\n",
       "        vertical-align: top;\n",
       "    }\n",
       "\n",
       "    .dataframe thead th {\n",
       "        text-align: right;\n",
       "    }\n",
       "</style>\n",
       "<table border=\"1\" class=\"dataframe\">\n",
       "  <thead>\n",
       "    <tr style=\"text-align: right;\">\n",
       "      <th></th>\n",
       "      <th>count</th>\n",
       "      <th>mean</th>\n",
       "      <th>std</th>\n",
       "      <th>min</th>\n",
       "      <th>25%</th>\n",
       "      <th>50%</th>\n",
       "      <th>75%</th>\n",
       "      <th>max</th>\n",
       "    </tr>\n",
       "  </thead>\n",
       "  <tbody>\n",
       "    <tr>\n",
       "      <th>Cement</th>\n",
       "      <td>1030.0</td>\n",
       "      <td>281.165631</td>\n",
       "      <td>104.507142</td>\n",
       "      <td>102.000000</td>\n",
       "      <td>192.375000</td>\n",
       "      <td>272.900000</td>\n",
       "      <td>350.000000</td>\n",
       "      <td>540.000000</td>\n",
       "    </tr>\n",
       "    <tr>\n",
       "      <th>Blast Furnace Slag</th>\n",
       "      <td>1030.0</td>\n",
       "      <td>73.895485</td>\n",
       "      <td>86.279104</td>\n",
       "      <td>0.000000</td>\n",
       "      <td>0.000000</td>\n",
       "      <td>22.000000</td>\n",
       "      <td>142.950000</td>\n",
       "      <td>359.400000</td>\n",
       "    </tr>\n",
       "    <tr>\n",
       "      <th>Fly Ash</th>\n",
       "      <td>1030.0</td>\n",
       "      <td>54.187136</td>\n",
       "      <td>63.996469</td>\n",
       "      <td>0.000000</td>\n",
       "      <td>0.000000</td>\n",
       "      <td>0.000000</td>\n",
       "      <td>118.270000</td>\n",
       "      <td>200.100000</td>\n",
       "    </tr>\n",
       "    <tr>\n",
       "      <th>Water</th>\n",
       "      <td>1030.0</td>\n",
       "      <td>181.566359</td>\n",
       "      <td>21.355567</td>\n",
       "      <td>121.750000</td>\n",
       "      <td>164.900000</td>\n",
       "      <td>185.000000</td>\n",
       "      <td>192.000000</td>\n",
       "      <td>247.000000</td>\n",
       "    </tr>\n",
       "    <tr>\n",
       "      <th>Superplasticizer</th>\n",
       "      <td>1030.0</td>\n",
       "      <td>6.203112</td>\n",
       "      <td>5.973492</td>\n",
       "      <td>0.000000</td>\n",
       "      <td>0.000000</td>\n",
       "      <td>6.350000</td>\n",
       "      <td>10.160000</td>\n",
       "      <td>32.200000</td>\n",
       "    </tr>\n",
       "    <tr>\n",
       "      <th>Coarse Aggregate</th>\n",
       "      <td>1030.0</td>\n",
       "      <td>972.918592</td>\n",
       "      <td>77.753818</td>\n",
       "      <td>801.000000</td>\n",
       "      <td>932.000000</td>\n",
       "      <td>968.000000</td>\n",
       "      <td>1029.400000</td>\n",
       "      <td>1145.000000</td>\n",
       "    </tr>\n",
       "    <tr>\n",
       "      <th>Fine Aggregate</th>\n",
       "      <td>1030.0</td>\n",
       "      <td>773.578883</td>\n",
       "      <td>80.175427</td>\n",
       "      <td>594.000000</td>\n",
       "      <td>730.950000</td>\n",
       "      <td>779.510000</td>\n",
       "      <td>824.000000</td>\n",
       "      <td>992.600000</td>\n",
       "    </tr>\n",
       "    <tr>\n",
       "      <th>Age</th>\n",
       "      <td>1030.0</td>\n",
       "      <td>45.662136</td>\n",
       "      <td>63.169912</td>\n",
       "      <td>1.000000</td>\n",
       "      <td>7.000000</td>\n",
       "      <td>28.000000</td>\n",
       "      <td>56.000000</td>\n",
       "      <td>365.000000</td>\n",
       "    </tr>\n",
       "    <tr>\n",
       "      <th>CCS</th>\n",
       "      <td>1030.0</td>\n",
       "      <td>35.817836</td>\n",
       "      <td>16.705679</td>\n",
       "      <td>2.331808</td>\n",
       "      <td>23.707115</td>\n",
       "      <td>34.442774</td>\n",
       "      <td>46.136287</td>\n",
       "      <td>82.599225</td>\n",
       "    </tr>\n",
       "  </tbody>\n",
       "</table>\n",
       "</div>"
      ],
      "text/plain": [
       "                      count        mean         std         min         25%  \\\n",
       "Cement               1030.0  281.165631  104.507142  102.000000  192.375000   \n",
       "Blast Furnace Slag   1030.0   73.895485   86.279104    0.000000    0.000000   \n",
       "Fly Ash              1030.0   54.187136   63.996469    0.000000    0.000000   \n",
       "Water                1030.0  181.566359   21.355567  121.750000  164.900000   \n",
       "Superplasticizer     1030.0    6.203112    5.973492    0.000000    0.000000   \n",
       "Coarse Aggregate     1030.0  972.918592   77.753818  801.000000  932.000000   \n",
       "Fine Aggregate       1030.0  773.578883   80.175427  594.000000  730.950000   \n",
       "Age                  1030.0   45.662136   63.169912    1.000000    7.000000   \n",
       "CCS                  1030.0   35.817836   16.705679    2.331808   23.707115   \n",
       "\n",
       "                            50%          75%          max  \n",
       "Cement               272.900000   350.000000   540.000000  \n",
       "Blast Furnace Slag    22.000000   142.950000   359.400000  \n",
       "Fly Ash                0.000000   118.270000   200.100000  \n",
       "Water                185.000000   192.000000   247.000000  \n",
       "Superplasticizer       6.350000    10.160000    32.200000  \n",
       "Coarse Aggregate     968.000000  1029.400000  1145.000000  \n",
       "Fine Aggregate       779.510000   824.000000   992.600000  \n",
       "Age                   28.000000    56.000000   365.000000  \n",
       "CCS                   34.442774    46.136287    82.599225  "
      ]
     },
     "execution_count": 4,
     "metadata": {},
     "output_type": "execute_result"
    }
   ],
   "source": [
    "data.describe().T"
   ]
  },
  {
   "cell_type": "code",
   "execution_count": 5,
   "id": "b21cbc43",
   "metadata": {},
   "outputs": [
    {
     "data": {
      "image/png": "[encoded data removed]",
      "text/plain": [
       "<Figure size 640x480 with 2 Axes>"
      ]
     },
     "metadata": {},
     "output_type": "display_data"
    }
   ],
   "source": [
    "# Correlation plot\n",
    "\n",
    "sns.heatmap(data.corr(), annot = True, vmin=-1, vmax = 1, mask = np.triu(data.corr()))\n",
    "plt.show()"
   ]
  },
  {
   "cell_type": "markdown",
   "id": "c4d53505",
   "metadata": {},
   "source": [
    "## Treat the defects"
   ]
  },
  {
   "cell_type": "code",
   "execution_count": 6,
   "id": "51158e26",
   "metadata": {},
   "outputs": [
    {
     "data": {
      "text/plain": [
       "Cement                 0\n",
       "Blast Furnace Slag     0\n",
       "Fly Ash                0\n",
       "Water                  0\n",
       "Superplasticizer       0\n",
       "Coarse Aggregate       0\n",
       "Fine Aggregate         0\n",
       "Age                    0\n",
       "CCS                    0\n",
       "dtype: int64"
      ]
     },
     "execution_count": 6,
     "metadata": {},
     "output_type": "execute_result"
    }
   ],
   "source": [
    "data.isnull().sum()"
   ]
  },
  {
   "cell_type": "code",
   "execution_count": 7,
   "id": "08cd30ce",
   "metadata": {},
   "outputs": [
    {
     "data": {
      "text/html": [
       "<div>\n",
       "<style scoped>\n",
       "    .dataframe tbody tr th:only-of-type {\n",
       "        vertical-align: middle;\n",
       "    }\n",
       "\n",
       "    .dataframe tbody tr th {\n",
       "        vertical-align: top;\n",
       "    }\n",
       "\n",
       "    .dataframe thead th {\n",
       "        text-align: right;\n",
       "    }\n",
       "</style>\n",
       "<table border=\"1\" class=\"dataframe\">\n",
       "  <thead>\n",
       "    <tr style=\"text-align: right;\">\n",
       "      <th></th>\n",
       "      <th>Cement</th>\n",
       "      <th>Blast Furnace Slag</th>\n",
       "      <th>Fly Ash</th>\n",
       "      <th>Water</th>\n",
       "      <th>Superplasticizer</th>\n",
       "      <th>Coarse Aggregate</th>\n",
       "      <th>Fine Aggregate</th>\n",
       "      <th>Age</th>\n",
       "      <th>CCS</th>\n",
       "    </tr>\n",
       "  </thead>\n",
       "  <tbody>\n",
       "    <tr>\n",
       "      <th>77</th>\n",
       "      <td>425.0</td>\n",
       "      <td>106.3</td>\n",
       "      <td>0.0</td>\n",
       "      <td>153.5</td>\n",
       "      <td>16.5</td>\n",
       "      <td>852.1</td>\n",
       "      <td>887.1</td>\n",
       "      <td>3</td>\n",
       "      <td>33.398217</td>\n",
       "    </tr>\n",
       "    <tr>\n",
       "      <th>80</th>\n",
       "      <td>425.0</td>\n",
       "      <td>106.3</td>\n",
       "      <td>0.0</td>\n",
       "      <td>153.5</td>\n",
       "      <td>16.5</td>\n",
       "      <td>852.1</td>\n",
       "      <td>887.1</td>\n",
       "      <td>3</td>\n",
       "      <td>33.398217</td>\n",
       "    </tr>\n",
       "    <tr>\n",
       "      <th>86</th>\n",
       "      <td>362.6</td>\n",
       "      <td>189.0</td>\n",
       "      <td>0.0</td>\n",
       "      <td>164.9</td>\n",
       "      <td>11.6</td>\n",
       "      <td>944.7</td>\n",
       "      <td>755.8</td>\n",
       "      <td>3</td>\n",
       "      <td>35.301171</td>\n",
       "    </tr>\n",
       "    <tr>\n",
       "      <th>88</th>\n",
       "      <td>362.6</td>\n",
       "      <td>189.0</td>\n",
       "      <td>0.0</td>\n",
       "      <td>164.9</td>\n",
       "      <td>11.6</td>\n",
       "      <td>944.7</td>\n",
       "      <td>755.8</td>\n",
       "      <td>3</td>\n",
       "      <td>35.301171</td>\n",
       "    </tr>\n",
       "    <tr>\n",
       "      <th>91</th>\n",
       "      <td>362.6</td>\n",
       "      <td>189.0</td>\n",
       "      <td>0.0</td>\n",
       "      <td>164.9</td>\n",
       "      <td>11.6</td>\n",
       "      <td>944.7</td>\n",
       "      <td>755.8</td>\n",
       "      <td>3</td>\n",
       "      <td>35.301171</td>\n",
       "    </tr>\n",
       "    <tr>\n",
       "      <th>100</th>\n",
       "      <td>425.0</td>\n",
       "      <td>106.3</td>\n",
       "      <td>0.0</td>\n",
       "      <td>153.5</td>\n",
       "      <td>16.5</td>\n",
       "      <td>852.1</td>\n",
       "      <td>887.1</td>\n",
       "      <td>7</td>\n",
       "      <td>49.201007</td>\n",
       "    </tr>\n",
       "    <tr>\n",
       "      <th>103</th>\n",
       "      <td>425.0</td>\n",
       "      <td>106.3</td>\n",
       "      <td>0.0</td>\n",
       "      <td>153.5</td>\n",
       "      <td>16.5</td>\n",
       "      <td>852.1</td>\n",
       "      <td>887.1</td>\n",
       "      <td>7</td>\n",
       "      <td>49.201007</td>\n",
       "    </tr>\n",
       "    <tr>\n",
       "      <th>109</th>\n",
       "      <td>362.6</td>\n",
       "      <td>189.0</td>\n",
       "      <td>0.0</td>\n",
       "      <td>164.9</td>\n",
       "      <td>11.6</td>\n",
       "      <td>944.7</td>\n",
       "      <td>755.8</td>\n",
       "      <td>7</td>\n",
       "      <td>55.895819</td>\n",
       "    </tr>\n",
       "    <tr>\n",
       "      <th>111</th>\n",
       "      <td>362.6</td>\n",
       "      <td>189.0</td>\n",
       "      <td>0.0</td>\n",
       "      <td>164.9</td>\n",
       "      <td>11.6</td>\n",
       "      <td>944.7</td>\n",
       "      <td>755.8</td>\n",
       "      <td>7</td>\n",
       "      <td>55.895819</td>\n",
       "    </tr>\n",
       "    <tr>\n",
       "      <th>123</th>\n",
       "      <td>425.0</td>\n",
       "      <td>106.3</td>\n",
       "      <td>0.0</td>\n",
       "      <td>153.5</td>\n",
       "      <td>16.5</td>\n",
       "      <td>852.1</td>\n",
       "      <td>887.1</td>\n",
       "      <td>28</td>\n",
       "      <td>60.294676</td>\n",
       "    </tr>\n",
       "    <tr>\n",
       "      <th>126</th>\n",
       "      <td>425.0</td>\n",
       "      <td>106.3</td>\n",
       "      <td>0.0</td>\n",
       "      <td>153.5</td>\n",
       "      <td>16.5</td>\n",
       "      <td>852.1</td>\n",
       "      <td>887.1</td>\n",
       "      <td>28</td>\n",
       "      <td>60.294676</td>\n",
       "    </tr>\n",
       "    <tr>\n",
       "      <th>132</th>\n",
       "      <td>362.6</td>\n",
       "      <td>189.0</td>\n",
       "      <td>0.0</td>\n",
       "      <td>164.9</td>\n",
       "      <td>11.6</td>\n",
       "      <td>944.7</td>\n",
       "      <td>755.8</td>\n",
       "      <td>28</td>\n",
       "      <td>71.298713</td>\n",
       "    </tr>\n",
       "    <tr>\n",
       "      <th>134</th>\n",
       "      <td>362.6</td>\n",
       "      <td>189.0</td>\n",
       "      <td>0.0</td>\n",
       "      <td>164.9</td>\n",
       "      <td>11.6</td>\n",
       "      <td>944.7</td>\n",
       "      <td>755.8</td>\n",
       "      <td>28</td>\n",
       "      <td>71.298713</td>\n",
       "    </tr>\n",
       "    <tr>\n",
       "      <th>137</th>\n",
       "      <td>362.6</td>\n",
       "      <td>189.0</td>\n",
       "      <td>0.0</td>\n",
       "      <td>164.9</td>\n",
       "      <td>11.6</td>\n",
       "      <td>944.7</td>\n",
       "      <td>755.8</td>\n",
       "      <td>28</td>\n",
       "      <td>71.298713</td>\n",
       "    </tr>\n",
       "    <tr>\n",
       "      <th>146</th>\n",
       "      <td>425.0</td>\n",
       "      <td>106.3</td>\n",
       "      <td>0.0</td>\n",
       "      <td>153.5</td>\n",
       "      <td>16.5</td>\n",
       "      <td>852.1</td>\n",
       "      <td>887.1</td>\n",
       "      <td>56</td>\n",
       "      <td>64.300532</td>\n",
       "    </tr>\n",
       "    <tr>\n",
       "      <th>149</th>\n",
       "      <td>425.0</td>\n",
       "      <td>106.3</td>\n",
       "      <td>0.0</td>\n",
       "      <td>153.5</td>\n",
       "      <td>16.5</td>\n",
       "      <td>852.1</td>\n",
       "      <td>887.1</td>\n",
       "      <td>56</td>\n",
       "      <td>64.300532</td>\n",
       "    </tr>\n",
       "    <tr>\n",
       "      <th>155</th>\n",
       "      <td>362.6</td>\n",
       "      <td>189.0</td>\n",
       "      <td>0.0</td>\n",
       "      <td>164.9</td>\n",
       "      <td>11.6</td>\n",
       "      <td>944.7</td>\n",
       "      <td>755.8</td>\n",
       "      <td>56</td>\n",
       "      <td>77.297154</td>\n",
       "    </tr>\n",
       "    <tr>\n",
       "      <th>157</th>\n",
       "      <td>362.6</td>\n",
       "      <td>189.0</td>\n",
       "      <td>0.0</td>\n",
       "      <td>164.9</td>\n",
       "      <td>11.6</td>\n",
       "      <td>944.7</td>\n",
       "      <td>755.8</td>\n",
       "      <td>56</td>\n",
       "      <td>77.297154</td>\n",
       "    </tr>\n",
       "    <tr>\n",
       "      <th>160</th>\n",
       "      <td>362.6</td>\n",
       "      <td>189.0</td>\n",
       "      <td>0.0</td>\n",
       "      <td>164.9</td>\n",
       "      <td>11.6</td>\n",
       "      <td>944.7</td>\n",
       "      <td>755.8</td>\n",
       "      <td>56</td>\n",
       "      <td>77.297154</td>\n",
       "    </tr>\n",
       "    <tr>\n",
       "      <th>169</th>\n",
       "      <td>425.0</td>\n",
       "      <td>106.3</td>\n",
       "      <td>0.0</td>\n",
       "      <td>153.5</td>\n",
       "      <td>16.5</td>\n",
       "      <td>852.1</td>\n",
       "      <td>887.1</td>\n",
       "      <td>91</td>\n",
       "      <td>65.196851</td>\n",
       "    </tr>\n",
       "    <tr>\n",
       "      <th>172</th>\n",
       "      <td>425.0</td>\n",
       "      <td>106.3</td>\n",
       "      <td>0.0</td>\n",
       "      <td>153.5</td>\n",
       "      <td>16.5</td>\n",
       "      <td>852.1</td>\n",
       "      <td>887.1</td>\n",
       "      <td>91</td>\n",
       "      <td>65.196851</td>\n",
       "    </tr>\n",
       "    <tr>\n",
       "      <th>177</th>\n",
       "      <td>362.6</td>\n",
       "      <td>189.0</td>\n",
       "      <td>0.0</td>\n",
       "      <td>164.9</td>\n",
       "      <td>11.6</td>\n",
       "      <td>944.7</td>\n",
       "      <td>755.8</td>\n",
       "      <td>91</td>\n",
       "      <td>79.296635</td>\n",
       "    </tr>\n",
       "    <tr>\n",
       "      <th>179</th>\n",
       "      <td>362.6</td>\n",
       "      <td>189.0</td>\n",
       "      <td>0.0</td>\n",
       "      <td>164.9</td>\n",
       "      <td>11.6</td>\n",
       "      <td>944.7</td>\n",
       "      <td>755.8</td>\n",
       "      <td>91</td>\n",
       "      <td>79.296635</td>\n",
       "    </tr>\n",
       "    <tr>\n",
       "      <th>182</th>\n",
       "      <td>362.6</td>\n",
       "      <td>189.0</td>\n",
       "      <td>0.0</td>\n",
       "      <td>164.9</td>\n",
       "      <td>11.6</td>\n",
       "      <td>944.7</td>\n",
       "      <td>755.8</td>\n",
       "      <td>91</td>\n",
       "      <td>79.296635</td>\n",
       "    </tr>\n",
       "    <tr>\n",
       "      <th>809</th>\n",
       "      <td>252.0</td>\n",
       "      <td>0.0</td>\n",
       "      <td>0.0</td>\n",
       "      <td>185.0</td>\n",
       "      <td>0.0</td>\n",
       "      <td>1111.0</td>\n",
       "      <td>784.0</td>\n",
       "      <td>28</td>\n",
       "      <td>19.691435</td>\n",
       "    </tr>\n",
       "  </tbody>\n",
       "</table>\n",
       "</div>"
      ],
      "text/plain": [
       "     Cement   Blast Furnace Slag   Fly Ash  Water  Superplasticizer  \\\n",
       "77     425.0                106.3      0.0  153.5              16.5   \n",
       "80     425.0                106.3      0.0  153.5              16.5   \n",
       "86     362.6                189.0      0.0  164.9              11.6   \n",
       "88     362.6                189.0      0.0  164.9              11.6   \n",
       "91     362.6                189.0      0.0  164.9              11.6   \n",
       "100    425.0                106.3      0.0  153.5              16.5   \n",
       "103    425.0                106.3      0.0  153.5              16.5   \n",
       "109    362.6                189.0      0.0  164.9              11.6   \n",
       "111    362.6                189.0      0.0  164.9              11.6   \n",
       "123    425.0                106.3      0.0  153.5              16.5   \n",
       "126    425.0                106.3      0.0  153.5              16.5   \n",
       "132    362.6                189.0      0.0  164.9              11.6   \n",
       "134    362.6                189.0      0.0  164.9              11.6   \n",
       "137    362.6                189.0      0.0  164.9              11.6   \n",
       "146    425.0                106.3      0.0  153.5              16.5   \n",
       "149    425.0                106.3      0.0  153.5              16.5   \n",
       "155    362.6                189.0      0.0  164.9              11.6   \n",
       "157    362.6                189.0      0.0  164.9              11.6   \n",
       "160    362.6                189.0      0.0  164.9              11.6   \n",
       "169    425.0                106.3      0.0  153.5              16.5   \n",
       "172    425.0                106.3      0.0  153.5              16.5   \n",
       "177    362.6                189.0      0.0  164.9              11.6   \n",
       "179    362.6                189.0      0.0  164.9              11.6   \n",
       "182    362.6                189.0      0.0  164.9              11.6   \n",
       "809    252.0                  0.0      0.0  185.0               0.0   \n",
       "\n",
       "     Coarse Aggregate  Fine Aggregate  Age        CCS  \n",
       "77              852.1           887.1    3  33.398217  \n",
       "80              852.1           887.1    3  33.398217  \n",
       "86              944.7           755.8    3  35.301171  \n",
       "88              944.7           755.8    3  35.301171  \n",
       "91              944.7           755.8    3  35.301171  \n",
       "100             852.1           887.1    7  49.201007  \n",
       "103             852.1           887.1    7  49.201007  \n",
       "109             944.7           755.8    7  55.895819  \n",
       "111             944.7           755.8    7  55.895819  \n",
       "123             852.1           887.1   28  60.294676  \n",
       "126             852.1           887.1   28  60.294676  \n",
       "132             944.7           755.8   28  71.298713  \n",
       "134             944.7           755.8   28  71.298713  \n",
       "137             944.7           755.8   28  71.298713  \n",
       "146             852.1           887.1   56  64.300532  \n",
       "149             852.1           887.1   56  64.300532  \n",
       "155             944.7           755.8   56  77.297154  \n",
       "157             944.7           755.8   56  77.297154  \n",
       "160             944.7           755.8   56  77.297154  \n",
       "169             852.1           887.1   91  65.196851  \n",
       "172             852.1           887.1   91  65.196851  \n",
       "177             944.7           755.8   91  79.296635  \n",
       "179             944.7           755.8   91  79.296635  \n",
       "182             944.7           755.8   91  79.296635  \n",
       "809            1111.0           784.0   28  19.691435  "
      ]
     },
     "execution_count": 7,
     "metadata": {},
     "output_type": "execute_result"
    }
   ],
   "source": [
    "# Duplicates\n",
    "\n",
    "data[data.duplicated()]"
   ]
  },
  {
   "cell_type": "code",
   "execution_count": 8,
   "id": "a09f8472",
   "metadata": {},
   "outputs": [],
   "source": [
    "data.drop_duplicates(inplace = True)"
   ]
  },
  {
   "cell_type": "code",
   "execution_count": 9,
   "id": "b3a6bf47",
   "metadata": {},
   "outputs": [
    {
     "data": {
      "text/plain": [
       "(1005, 9)"
      ]
     },
     "execution_count": 9,
     "metadata": {},
     "output_type": "execute_result"
    }
   ],
   "source": [
    "data.shape"
   ]
  },
  {
   "cell_type": "code",
   "execution_count": 10,
   "id": "39db3513",
   "metadata": {},
   "outputs": [
    {
     "data": {
      "image/png": "[encoded data removed]",
      "text/plain": [
       "<Figure size 1000x1500 with 9 Axes>"
      ]
     },
     "metadata": {},
     "output_type": "display_data"
    }
   ],
   "source": [
    "# Outliers\n",
    "\n",
    "t = 1\n",
    "plt.figure(figsize=(10,15))\n",
    "for i in data.columns:\n",
    "    plt.subplot(5,2,t)\n",
    "    sns.boxplot(x=data[i])\n",
    "    t = t+1\n",
    "plt.tight_layout()\n",
    "plt.show()"
   ]
  },
  {
   "cell_type": "code",
   "execution_count": 11,
   "id": "820a8278",
   "metadata": {},
   "outputs": [],
   "source": [
    "## Capping the outliers (IQR method)\n",
    "\n",
    "for i in data.columns:\n",
    "    q3,q1 = np.percentile(data[i], [75,25])\n",
    "    iqr = q3-q1\n",
    "    ul, ll = q3+1.5*iqr, q1-1.5*iqr\n",
    "    data[i] = data[i].apply(lambda x : ll if x<ll else ul if x>ul else x)"
   ]
  },
  {
   "cell_type": "code",
   "execution_count": 12,
   "id": "b2ab6f93",
   "metadata": {},
   "outputs": [
    {
     "data": {
      "image/png": "[encoded data removed]",
      "text/plain": [
       "<Figure size 1000x1500 with 9 Axes>"
      ]
     },
     "metadata": {},
     "output_type": "display_data"
    }
   ],
   "source": [
    "t = 1\n",
    "plt.figure(figsize=(10,15))\n",
    "for i in data.columns:\n",
    "    plt.subplot(5,2,t)\n",
    "    sns.boxplot(x=data[i])\n",
    "    t = t+1\n",
    "plt.tight_layout()\n",
    "plt.show()"
   ]
  },
  {
   "cell_type": "markdown",
   "id": "0071b0e0",
   "metadata": {},
   "source": [
    "## Linear Regression Analysis"
   ]
  },
  {
   "cell_type": "code",
   "execution_count": 13,
   "id": "6e5f50ec",
   "metadata": {},
   "outputs": [],
   "source": [
    "# Split x and y\n",
    "\n",
    "x = data.drop(columns='CCS')\n",
    "y = data['CCS']"
   ]
  },
  {
   "cell_type": "markdown",
   "id": "8d46d92b",
   "metadata": {},
   "source": [
    "## Assumption 1 : Target variable must be numeric"
   ]
  },
  {
   "cell_type": "raw",
   "id": "a189626e",
   "metadata": {},
   "source": [
    "The target variable is numeric"
   ]
  },
  {
   "cell_type": "markdown",
   "id": "fbac5aad",
   "metadata": {},
   "source": [
    "## Assumption 2 : There should be no multicolinearity"
   ]
  },
  {
   "cell_type": "code",
   "execution_count": 14,
   "id": "a4ec16a3",
   "metadata": {},
   "outputs": [
    {
     "data": {
      "text/html": [
       "<div>\n",
       "<style scoped>\n",
       "    .dataframe tbody tr th:only-of-type {\n",
       "        vertical-align: middle;\n",
       "    }\n",
       "\n",
       "    .dataframe tbody tr th {\n",
       "        vertical-align: top;\n",
       "    }\n",
       "\n",
       "    .dataframe thead th {\n",
       "        text-align: right;\n",
       "    }\n",
       "</style>\n",
       "<table border=\"1\" class=\"dataframe\">\n",
       "  <thead>\n",
       "    <tr style=\"text-align: right;\">\n",
       "      <th></th>\n",
       "      <th>VIF</th>\n",
       "    </tr>\n",
       "  </thead>\n",
       "  <tbody>\n",
       "    <tr>\n",
       "      <th>Coarse Aggregate</th>\n",
       "      <td>85.016957</td>\n",
       "    </tr>\n",
       "    <tr>\n",
       "      <th>Water</th>\n",
       "      <td>82.028328</td>\n",
       "    </tr>\n",
       "    <tr>\n",
       "      <th>Fine Aggregate</th>\n",
       "      <td>72.308018</td>\n",
       "    </tr>\n",
       "    <tr>\n",
       "      <th>Cement</th>\n",
       "      <td>15.213900</td>\n",
       "    </tr>\n",
       "    <tr>\n",
       "      <th>Superplasticizer</th>\n",
       "      <td>5.513072</td>\n",
       "    </tr>\n",
       "    <tr>\n",
       "      <th>Fly Ash</th>\n",
       "      <td>4.325332</td>\n",
       "    </tr>\n",
       "    <tr>\n",
       "      <th>Blast Furnace Slag</th>\n",
       "      <td>3.307520</td>\n",
       "    </tr>\n",
       "    <tr>\n",
       "      <th>Age</th>\n",
       "      <td>2.250063</td>\n",
       "    </tr>\n",
       "  </tbody>\n",
       "</table>\n",
       "</div>"
      ],
      "text/plain": [
       "                           VIF\n",
       "Coarse Aggregate     85.016957\n",
       "Water                82.028328\n",
       "Fine Aggregate       72.308018\n",
       "Cement               15.213900\n",
       "Superplasticizer      5.513072\n",
       "Fly Ash               4.325332\n",
       "Blast Furnace Slag    3.307520\n",
       "Age                   2.250063"
      ]
     },
     "execution_count": 14,
     "metadata": {},
     "output_type": "execute_result"
    }
   ],
   "source": [
    "# VIF\n",
    "\n",
    "vif = []\n",
    "for i in range(x.shape[1]):\n",
    "    vif.append(variance_inflation_factor(x.values,i))\n",
    "    \n",
    "vif_data = pd.DataFrame({'VIF':vif}, index=x.columns)\n",
    "vif_data.sort_values(by='VIF', ascending = False)"
   ]
  },
  {
   "cell_type": "code",
   "execution_count": 15,
   "id": "ac61c157",
   "metadata": {},
   "outputs": [
    {
     "data": {
      "text/plain": [
       "0.7216237573284897"
      ]
     },
     "execution_count": 15,
     "metadata": {},
     "output_type": "execute_result"
    }
   ],
   "source": [
    "sma.OLS(y, sma.add_constant(x)).fit().rsquared"
   ]
  },
  {
   "cell_type": "code",
   "execution_count": 16,
   "id": "159f34fc",
   "metadata": {},
   "outputs": [
    {
     "data": {
      "text/plain": [
       "0.7214599162155249"
      ]
     },
     "execution_count": 16,
     "metadata": {},
     "output_type": "execute_result"
    }
   ],
   "source": [
    "# Checking R2 with deleting columns one by one, if R2 is not making much difference means not decreasing much that means it \n",
    "# does not have significant relation so we can delete that column\n",
    "\n",
    "sma.OLS(y, sma.add_constant(x.drop(columns='Coarse Aggregate'))).fit().rsquared"
   ]
  },
  {
   "cell_type": "code",
   "execution_count": 17,
   "id": "fb48b8f1",
   "metadata": {},
   "outputs": [
    {
     "data": {
      "text/plain": [
       "0.7136615388147228"
      ]
     },
     "execution_count": 17,
     "metadata": {},
     "output_type": "execute_result"
    }
   ],
   "source": [
    "sma.OLS(y, sma.add_constant(x.drop(columns='Water'))).fit().rsquared"
   ]
  },
  {
   "cell_type": "code",
   "execution_count": 18,
   "id": "5b09ca12",
   "metadata": {},
   "outputs": [
    {
     "data": {
      "text/plain": [
       "0.7214092505866176"
      ]
     },
     "execution_count": 18,
     "metadata": {},
     "output_type": "execute_result"
    }
   ],
   "source": [
    "sma.OLS(y, sma.add_constant(x.drop(columns='Fine Aggregate'))).fit().rsquared"
   ]
  },
  {
   "cell_type": "code",
   "execution_count": 19,
   "id": "46bef8da",
   "metadata": {},
   "outputs": [
    {
     "data": {
      "text/plain": [
       "0.6540971411824044"
      ]
     },
     "execution_count": 19,
     "metadata": {},
     "output_type": "execute_result"
    }
   ],
   "source": [
    "sma.OLS(y, sma.add_constant(x.drop(columns='Cement '))).fit().rsquared"
   ]
  },
  {
   "cell_type": "code",
   "execution_count": 20,
   "id": "d5b45850",
   "metadata": {},
   "outputs": [
    {
     "data": {
      "text/html": [
       "<div>\n",
       "<style scoped>\n",
       "    .dataframe tbody tr th:only-of-type {\n",
       "        vertical-align: middle;\n",
       "    }\n",
       "\n",
       "    .dataframe tbody tr th {\n",
       "        vertical-align: top;\n",
       "    }\n",
       "\n",
       "    .dataframe thead th {\n",
       "        text-align: right;\n",
       "    }\n",
       "</style>\n",
       "<table border=\"1\" class=\"dataframe\">\n",
       "  <thead>\n",
       "    <tr style=\"text-align: right;\">\n",
       "      <th></th>\n",
       "      <th>VIF</th>\n",
       "    </tr>\n",
       "  </thead>\n",
       "  <tbody>\n",
       "    <tr>\n",
       "      <th>Water</th>\n",
       "      <td>72.333537</td>\n",
       "    </tr>\n",
       "    <tr>\n",
       "      <th>Fine Aggregate</th>\n",
       "      <td>47.949524</td>\n",
       "    </tr>\n",
       "    <tr>\n",
       "      <th>Cement</th>\n",
       "      <td>14.267535</td>\n",
       "    </tr>\n",
       "    <tr>\n",
       "      <th>Superplasticizer</th>\n",
       "      <td>5.464804</td>\n",
       "    </tr>\n",
       "    <tr>\n",
       "      <th>Fly Ash</th>\n",
       "      <td>4.159872</td>\n",
       "    </tr>\n",
       "    <tr>\n",
       "      <th>Blast Furnace Slag</th>\n",
       "      <td>3.278204</td>\n",
       "    </tr>\n",
       "    <tr>\n",
       "      <th>Age</th>\n",
       "      <td>2.248795</td>\n",
       "    </tr>\n",
       "  </tbody>\n",
       "</table>\n",
       "</div>"
      ],
      "text/plain": [
       "                           VIF\n",
       "Water                72.333537\n",
       "Fine Aggregate       47.949524\n",
       "Cement               14.267535\n",
       "Superplasticizer      5.464804\n",
       "Fly Ash               4.159872\n",
       "Blast Furnace Slag    3.278204\n",
       "Age                   2.248795"
      ]
     },
     "execution_count": 20,
     "metadata": {},
     "output_type": "execute_result"
    }
   ],
   "source": [
    "# VIF\n",
    "\n",
    "x.drop(columns=['Coarse Aggregate'], inplace = True)\n",
    "vif = []\n",
    "for i in range(x.shape[1]):\n",
    "    vif.append(variance_inflation_factor(x.values,i))\n",
    "    \n",
    "vif_data = pd.DataFrame({'VIF':vif}, index=x.columns)\n",
    "vif_data.sort_values(by='VIF', ascending = False)"
   ]
  },
  {
   "cell_type": "code",
   "execution_count": 21,
   "id": "381bdf05",
   "metadata": {},
   "outputs": [],
   "source": [
    "# Along with deleting the coarse aggregate column we are checking VIF again and we see that VIF decreases further"
   ]
  },
  {
   "cell_type": "code",
   "execution_count": 22,
   "id": "139e23e7",
   "metadata": {},
   "outputs": [
    {
     "data": {
      "text/html": [
       "<div>\n",
       "<style scoped>\n",
       "    .dataframe tbody tr th:only-of-type {\n",
       "        vertical-align: middle;\n",
       "    }\n",
       "\n",
       "    .dataframe tbody tr th {\n",
       "        vertical-align: top;\n",
       "    }\n",
       "\n",
       "    .dataframe thead th {\n",
       "        text-align: right;\n",
       "    }\n",
       "</style>\n",
       "<table border=\"1\" class=\"dataframe\">\n",
       "  <thead>\n",
       "    <tr style=\"text-align: right;\">\n",
       "      <th></th>\n",
       "      <th>VIF</th>\n",
       "    </tr>\n",
       "  </thead>\n",
       "  <tbody>\n",
       "    <tr>\n",
       "      <th>Water</th>\n",
       "      <td>21.626638</td>\n",
       "    </tr>\n",
       "    <tr>\n",
       "      <th>Cement</th>\n",
       "      <td>13.954376</td>\n",
       "    </tr>\n",
       "    <tr>\n",
       "      <th>Fly Ash</th>\n",
       "      <td>4.068454</td>\n",
       "    </tr>\n",
       "    <tr>\n",
       "      <th>Superplasticizer</th>\n",
       "      <td>3.918141</td>\n",
       "    </tr>\n",
       "    <tr>\n",
       "      <th>Blast Furnace Slag</th>\n",
       "      <td>2.991824</td>\n",
       "    </tr>\n",
       "    <tr>\n",
       "      <th>Age</th>\n",
       "      <td>2.234706</td>\n",
       "    </tr>\n",
       "  </tbody>\n",
       "</table>\n",
       "</div>"
      ],
      "text/plain": [
       "                           VIF\n",
       "Water                21.626638\n",
       "Cement               13.954376\n",
       "Fly Ash               4.068454\n",
       "Superplasticizer      3.918141\n",
       "Blast Furnace Slag    2.991824\n",
       "Age                   2.234706"
      ]
     },
     "execution_count": 22,
     "metadata": {},
     "output_type": "execute_result"
    }
   ],
   "source": [
    "# VIF\n",
    "\n",
    "x.drop(columns=['Fine Aggregate'], inplace = True)\n",
    "vif = []\n",
    "for i in range(x.shape[1]):\n",
    "    vif.append(variance_inflation_factor(x.values,i))\n",
    "    \n",
    "vif_data = pd.DataFrame({'VIF':vif}, index=x.columns)\n",
    "vif_data.sort_values(by='VIF', ascending = False)"
   ]
  },
  {
   "cell_type": "code",
   "execution_count": 23,
   "id": "45bd7e3e",
   "metadata": {},
   "outputs": [],
   "source": [
    "# Then we deleted fine aggregate column and we are checking for VIF which has decreased further and we are checking r2 again\n",
    "# with this vif values "
   ]
  },
  {
   "cell_type": "code",
   "execution_count": 24,
   "id": "56add9ea",
   "metadata": {},
   "outputs": [
    {
     "data": {
      "text/plain": [
       "0.6828068935632017"
      ]
     },
     "execution_count": 24,
     "metadata": {},
     "output_type": "execute_result"
    }
   ],
   "source": [
    "sma.OLS(y, sma.add_constant(x.drop(columns='Water'))).fit().rsquared"
   ]
  },
  {
   "cell_type": "code",
   "execution_count": 25,
   "id": "19c52ca5",
   "metadata": {},
   "outputs": [
    {
     "data": {
      "text/plain": [
       "0.4717210254877716"
      ]
     },
     "execution_count": 25,
     "metadata": {},
     "output_type": "execute_result"
    }
   ],
   "source": [
    "sma.OLS(y, sma.add_constant(x.drop(columns='Cement '))).fit().rsquared"
   ]
  },
  {
   "cell_type": "code",
   "execution_count": 26,
   "id": "9f0e0c07",
   "metadata": {},
   "outputs": [],
   "source": [
    "# and we find that if we delete water and cement column then r2 has decreased drastically which is not good for a model so we\n",
    "# chose another method i.e., we make a new column and added water and cement columns and deleted original water and cement columns"
   ]
  },
  {
   "cell_type": "code",
   "execution_count": 27,
   "id": "aa0d9e01",
   "metadata": {},
   "outputs": [],
   "source": [
    "x['Cement Water Ratio'] = x['Cement ']/x['Water']\n",
    "x.drop(columns=['Cement ', 'Water'], inplace = True)"
   ]
  },
  {
   "cell_type": "code",
   "execution_count": 28,
   "id": "6fd92a5f",
   "metadata": {},
   "outputs": [],
   "source": [
    "# then we checked for vif again and now we see vif has not decreased much\n",
    "# and we calculated r2 which is again not decreased much so further we fitted the model"
   ]
  },
  {
   "cell_type": "code",
   "execution_count": 29,
   "id": "e83214c4",
   "metadata": {},
   "outputs": [
    {
     "data": {
      "text/html": [
       "<div>\n",
       "<style scoped>\n",
       "    .dataframe tbody tr th:only-of-type {\n",
       "        vertical-align: middle;\n",
       "    }\n",
       "\n",
       "    .dataframe tbody tr th {\n",
       "        vertical-align: top;\n",
       "    }\n",
       "\n",
       "    .dataframe thead th {\n",
       "        text-align: right;\n",
       "    }\n",
       "</style>\n",
       "<table border=\"1\" class=\"dataframe\">\n",
       "  <thead>\n",
       "    <tr style=\"text-align: right;\">\n",
       "      <th></th>\n",
       "      <th>VIF</th>\n",
       "    </tr>\n",
       "  </thead>\n",
       "  <tbody>\n",
       "    <tr>\n",
       "      <th>Superplasticizer</th>\n",
       "      <td>3.478069</td>\n",
       "    </tr>\n",
       "    <tr>\n",
       "      <th>Cement Water Ratio</th>\n",
       "      <td>3.260167</td>\n",
       "    </tr>\n",
       "    <tr>\n",
       "      <th>Fly Ash</th>\n",
       "      <td>2.115637</td>\n",
       "    </tr>\n",
       "    <tr>\n",
       "      <th>Age</th>\n",
       "      <td>1.970481</td>\n",
       "    </tr>\n",
       "    <tr>\n",
       "      <th>Blast Furnace Slag</th>\n",
       "      <td>1.484503</td>\n",
       "    </tr>\n",
       "  </tbody>\n",
       "</table>\n",
       "</div>"
      ],
      "text/plain": [
       "                          VIF\n",
       "Superplasticizer     3.478069\n",
       "Cement Water Ratio   3.260167\n",
       "Fly Ash              2.115637\n",
       "Age                  1.970481\n",
       "Blast Furnace Slag   1.484503"
      ]
     },
     "execution_count": 29,
     "metadata": {},
     "output_type": "execute_result"
    }
   ],
   "source": [
    "# VIF\n",
    "\n",
    "vif = []\n",
    "for i in range(x.shape[1]):\n",
    "    vif.append(variance_inflation_factor(x.values,i))\n",
    "    \n",
    "vif_data = pd.DataFrame({'VIF':vif}, index=x.columns)\n",
    "vif_data.sort_values(by='VIF', ascending = False)"
   ]
  },
  {
   "cell_type": "code",
   "execution_count": 30,
   "id": "95e2d457",
   "metadata": {},
   "outputs": [
    {
     "data": {
      "text/plain": [
       "0.7117175527539445"
      ]
     },
     "execution_count": 30,
     "metadata": {},
     "output_type": "execute_result"
    }
   ],
   "source": [
    "sma.OLS(y, sma.add_constant(x)).fit().rsquared"
   ]
  },
  {
   "cell_type": "markdown",
   "id": "46ee729f",
   "metadata": {},
   "source": [
    "### Fit a model"
   ]
  },
  {
   "cell_type": "code",
   "execution_count": 31,
   "id": "3bc22b3b",
   "metadata": {},
   "outputs": [
    {
     "name": "stdout",
     "output_type": "stream",
     "text": [
      "                            OLS Regression Results                            \n",
      "==============================================================================\n",
      "Dep. Variable:                    CCS   R-squared:                       0.712\n",
      "Model:                            OLS   Adj. R-squared:                  0.710\n",
      "Method:                 Least Squares   F-statistic:                     493.3\n",
      "Date:                Fri, 30 Aug 2024   Prob (F-statistic):          7.66e-267\n",
      "Time:                        11:16:59   Log-Likelihood:                -3600.7\n",
      "No. Observations:                1005   AIC:                             7213.\n",
      "Df Residuals:                     999   BIC:                             7243.\n",
      "Df Model:                           5                                         \n",
      "Covariance Type:            nonrobust                                         \n",
      "=======================================================================================\n",
      "                          coef    std err          t      P>|t|      [0.025      0.975]\n",
      "---------------------------------------------------------------------------------------\n",
      "const                 -14.4833      1.309    -11.066      0.000     -17.052     -11.915\n",
      "Blast Furnace Slag      0.0811      0.004     19.363      0.000       0.073       0.089\n",
      "Fly Ash                 0.0732      0.007     10.818      0.000       0.060       0.086\n",
      "Superplasticizer        0.2039      0.069      2.975      0.003       0.069       0.338\n",
      "Age                     0.2462      0.008     31.632      0.000       0.231       0.261\n",
      "Cement Water Ratio     18.7498      0.621     30.188      0.000      17.531      19.969\n",
      "==============================================================================\n",
      "Omnibus:                        4.696   Durbin-Watson:                   1.266\n",
      "Prob(Omnibus):                  0.096   Jarque-Bera (JB):                4.998\n",
      "Skew:                           0.099   Prob(JB):                       0.0822\n",
      "Kurtosis:                       3.284   Cond. No.                         618.\n",
      "==============================================================================\n",
      "\n",
      "Notes:\n",
      "[1] Standard Errors assume that the covariance matrix of the errors is correctly specified.\n"
     ]
    }
   ],
   "source": [
    "model = sma.OLS(y, sma.add_constant(x)).fit()\n",
    "print(model.summary())"
   ]
  },
  {
   "cell_type": "raw",
   "id": "89c51616",
   "metadata": {},
   "source": [
    "Summary : Intercept is -14.48 (const)\n",
    "By increasing the cement water ratio we are increasing the CCS by 18.74\n",
    "1 kg of superplasticizer increase, increases the strength(ccs) by 0.20\n",
    "1 unit increase in age, increases strength (CCS) by 0.24"
   ]
  },
  {
   "cell_type": "markdown",
   "id": "c5d2108b",
   "metadata": {},
   "source": [
    "## Assumption 3 : Linear Relation"
   ]
  },
  {
   "cell_type": "code",
   "execution_count": 32,
   "id": "6c081bb6",
   "metadata": {},
   "outputs": [
    {
     "name": "stdout",
     "output_type": "stream",
     "text": [
      "reject Ho\n"
     ]
    }
   ],
   "source": [
    "# Linear Rainbow Test\n",
    "\n",
    "# Ho : variables are linear\n",
    "# Ha : variables are not linear\n",
    "\n",
    "from statsmodels.stats.diagnostic import linear_rainbow\n",
    "\n",
    "test_stat, p_value = linear_rainbow(model)\n",
    "if p_value<0.05:\n",
    "    print('reject Ho')\n",
    "else:\n",
    "    print('fail to reject Ho')"
   ]
  },
  {
   "cell_type": "raw",
   "id": "47b8959d",
   "metadata": {},
   "source": [
    "This means its accepting Ha means variables are not linear"
   ]
  },
  {
   "cell_type": "markdown",
   "id": "fd4cc8e5",
   "metadata": {},
   "source": [
    "## Assumption 4 : Autocorrelation"
   ]
  },
  {
   "cell_type": "code",
   "execution_count": 33,
   "id": "dd3a7b43",
   "metadata": {},
   "outputs": [],
   "source": [
    "# Durbin watson = 1.266\n",
    "# Hence there is positive autocorrelation"
   ]
  },
  {
   "cell_type": "markdown",
   "id": "a079431a",
   "metadata": {},
   "source": [
    "## Assumption 5 : Homoscedasticity"
   ]
  },
  {
   "cell_type": "code",
   "execution_count": 34,
   "id": "49427b9a",
   "metadata": {},
   "outputs": [
    {
     "data": {
      "image/png": "[encoded data removed]",
      "text/plain": [
       "<Figure size 640x480 with 1 Axes>"
      ]
     },
     "metadata": {},
     "output_type": "display_data"
    }
   ],
   "source": [
    "# Resid Plot\n",
    "\n",
    "sns.residplot(x = model.fittedvalues, y = model.resid)\n",
    "plt.xlabel('Fitted/Predicted values')\n",
    "plt.ylabel('Residuals')\n",
    "plt.show()"
   ]
  },
  {
   "cell_type": "raw",
   "id": "62df593b",
   "metadata": {},
   "source": [
    "This resid plot is showing its heteroscedastic and a closed funnel shaped data"
   ]
  },
  {
   "cell_type": "markdown",
   "id": "201f208c",
   "metadata": {},
   "source": [
    "### Breusch Pagan Test"
   ]
  },
  {
   "cell_type": "code",
   "execution_count": 35,
   "id": "9703978a",
   "metadata": {},
   "outputs": [
    {
     "name": "stdout",
     "output_type": "stream",
     "text": [
      "reject Ho\n"
     ]
    }
   ],
   "source": [
    "# Ho : variance is same\n",
    "# Ha : variance is not same\n",
    "\n",
    "p_value = sma.stats.diagnostic.het_breuschpagan(model.resid, exog_het = sma.add_constant(x).values)[1]\n",
    "p_value\n",
    "\n",
    "if p_value < 0.05:\n",
    "    print('reject Ho')\n",
    "else:\n",
    "    print('fail to reject Ho')"
   ]
  },
  {
   "cell_type": "markdown",
   "id": "3bfcc418",
   "metadata": {},
   "source": [
    "## Assumption 6 : Residual are normal"
   ]
  },
  {
   "cell_type": "code",
   "execution_count": 36,
   "id": "e38e0b93",
   "metadata": {},
   "outputs": [
    {
     "data": {
      "image/png": "[encoded data removed]",
      "text/plain": [
       "<Figure size 640x480 with 1 Axes>"
      ]
     },
     "metadata": {},
     "output_type": "display_data"
    }
   ],
   "source": [
    "# QQ plot\n",
    "\n",
    "stats.probplot(model.resid, plot=plt)\n",
    "plt.show()"
   ]
  },
  {
   "cell_type": "code",
   "execution_count": 37,
   "id": "5725a08f",
   "metadata": {},
   "outputs": [
    {
     "name": "stdout",
     "output_type": "stream",
     "text": [
      "0.06153109669685364\n",
      "fail to reject Ho\n"
     ]
    }
   ],
   "source": [
    "## Shapiro test\n",
    "\n",
    "# Ho : data is normal\n",
    "# Ha : data is not normal\n",
    "\n",
    "p_value = stats.shapiro(model.resid)[1]\n",
    "print(p_value)\n",
    "\n",
    "if p_value<0.05:\n",
    "    print('reject Ho')\n",
    "else:\n",
    "    print('fail to reject Ho')"
   ]
  },
  {
   "cell_type": "markdown",
   "id": "4abfd813",
   "metadata": {},
   "source": [
    "## Predictive Modelling"
   ]
  },
  {
   "cell_type": "code",
   "execution_count": 38,
   "id": "8003f9c4",
   "metadata": {},
   "outputs": [],
   "source": [
    "from sklearn.linear_model import LinearRegression, Ridge, Lasso, ElasticNet\n",
    "from sklearn.metrics import (mean_squared_error, mean_absolute_error, mean_absolute_percentage_error, r2_score)\n",
    "from sklearn.model_selection import train_test_split"
   ]
  },
  {
   "cell_type": "markdown",
   "id": "59073ca2",
   "metadata": {},
   "source": [
    "## Train Test Split"
   ]
  },
  {
   "cell_type": "code",
   "execution_count": 39,
   "id": "94a2b846",
   "metadata": {},
   "outputs": [],
   "source": [
    "x_train, x_test, y_train, y_test = train_test_split(x, y, train_size=800, random_state=2)"
   ]
  },
  {
   "cell_type": "code",
   "execution_count": 40,
   "id": "e550f309",
   "metadata": {},
   "outputs": [
    {
     "name": "stdout",
     "output_type": "stream",
     "text": [
      "(800, 5) (205, 5) (800,) (205,)\n"
     ]
    }
   ],
   "source": [
    "print(x_train.shape, x_test.shape, y_train.shape, y_test.shape)"
   ]
  },
  {
   "cell_type": "markdown",
   "id": "1cfacab3",
   "metadata": {},
   "source": [
    "## Fit LR model"
   ]
  },
  {
   "cell_type": "code",
   "execution_count": 41,
   "id": "5eb1bd62",
   "metadata": {},
   "outputs": [],
   "source": [
    "model_lr = LinearRegression()  # creating instance"
   ]
  },
  {
   "cell_type": "code",
   "execution_count": 42,
   "id": "7bda9523",
   "metadata": {},
   "outputs": [],
   "source": [
    "model_lr.fit(x_train, y_train)   # fitting model in training datset\n",
    "y_lr_train = model_lr.predict(x_train)\n",
    "y_lr_test = model_lr.predict(x_test)"
   ]
  },
  {
   "cell_type": "code",
   "execution_count": 43,
   "id": "d0bb35d0",
   "metadata": {},
   "outputs": [
    {
     "name": "stdout",
     "output_type": "stream",
     "text": [
      "R2 0.7143103932676483\n",
      "MSE 75.76260161073316\n",
      "RMSE 8.704171506279799\n",
      "MAE 6.809201716597718\n",
      "MAPE 0.25434182808170447\n"
     ]
    }
   ],
   "source": [
    "## Train Metrics\n",
    "\n",
    "print('R2', r2_score(y_train, y_lr_train))\n",
    "print('MSE', mean_squared_error(y_train, y_lr_train))\n",
    "print('RMSE', mean_squared_error(y_train, y_lr_train)**0.5)\n",
    "print('MAE', mean_absolute_error(y_train, y_lr_train))\n",
    "print('MAPE', mean_absolute_percentage_error(y_train, y_lr_train))"
   ]
  },
  {
   "cell_type": "code",
   "execution_count": 44,
   "id": "29ebda2c",
   "metadata": {},
   "outputs": [
    {
     "name": "stdout",
     "output_type": "stream",
     "text": [
      "R2 0.6970935894657551\n",
      "MSE 76.81189095069179\n",
      "RMSE 8.764239325274715\n",
      "MAE 6.82811080868435\n",
      "MAPE 0.24600507146457556\n"
     ]
    }
   ],
   "source": [
    "## Test Metrics\n",
    "\n",
    "print('R2', r2_score(y_test, y_lr_test))\n",
    "print('MSE', mean_squared_error(y_test, y_lr_test))\n",
    "print('RMSE', mean_squared_error(y_test, y_lr_test)**0.5)\n",
    "print('MAE', mean_absolute_error(y_test, y_lr_test))\n",
    "print('MAPE', mean_absolute_percentage_error(y_test, y_lr_test))"
   ]
  },
  {
   "cell_type": "code",
   "execution_count": 45,
   "id": "cd347c0c",
   "metadata": {},
   "outputs": [
    {
     "data": {
      "text/plain": [
       "-15.111419169824352"
      ]
     },
     "execution_count": 45,
     "metadata": {},
     "output_type": "execute_result"
    }
   ],
   "source": [
    "model_lr.intercept_     # Bo"
   ]
  },
  {
   "cell_type": "code",
   "execution_count": 46,
   "id": "711444de",
   "metadata": {},
   "outputs": [
    {
     "data": {
      "text/html": [
       "<div>\n",
       "<style scoped>\n",
       "    .dataframe tbody tr th:only-of-type {\n",
       "        vertical-align: middle;\n",
       "    }\n",
       "\n",
       "    .dataframe tbody tr th {\n",
       "        vertical-align: top;\n",
       "    }\n",
       "\n",
       "    .dataframe thead th {\n",
       "        text-align: right;\n",
       "    }\n",
       "</style>\n",
       "<table border=\"1\" class=\"dataframe\">\n",
       "  <thead>\n",
       "    <tr style=\"text-align: right;\">\n",
       "      <th></th>\n",
       "      <th>Coef</th>\n",
       "    </tr>\n",
       "  </thead>\n",
       "  <tbody>\n",
       "    <tr>\n",
       "      <th>Blast Furnace Slag</th>\n",
       "      <td>0.080493</td>\n",
       "    </tr>\n",
       "    <tr>\n",
       "      <th>Fly Ash</th>\n",
       "      <td>0.078325</td>\n",
       "    </tr>\n",
       "    <tr>\n",
       "      <th>Superplasticizer</th>\n",
       "      <td>0.201586</td>\n",
       "    </tr>\n",
       "    <tr>\n",
       "      <th>Age</th>\n",
       "      <td>0.239704</td>\n",
       "    </tr>\n",
       "    <tr>\n",
       "      <th>Cement Water Ratio</th>\n",
       "      <td>19.145826</td>\n",
       "    </tr>\n",
       "  </tbody>\n",
       "</table>\n",
       "</div>"
      ],
      "text/plain": [
       "                          Coef\n",
       "Blast Furnace Slag    0.080493\n",
       "Fly Ash               0.078325\n",
       "Superplasticizer      0.201586\n",
       "Age                   0.239704\n",
       "Cement Water Ratio   19.145826"
      ]
     },
     "execution_count": 46,
     "metadata": {},
     "output_type": "execute_result"
    }
   ],
   "source": [
    "pd.DataFrame({'Coef' : model_lr.coef_}, index=x.columns)      # B1"
   ]
  },
  {
   "cell_type": "markdown",
   "id": "df6a74da",
   "metadata": {},
   "source": [
    "## Regularization"
   ]
  },
  {
   "cell_type": "markdown",
   "id": "dbbdc3da",
   "metadata": {},
   "source": [
    "## Ridge Regularization (L2 Penalty)"
   ]
  },
  {
   "cell_type": "code",
   "execution_count": 47,
   "id": "41afcd82",
   "metadata": {},
   "outputs": [],
   "source": [
    "model_ridge = Ridge(alpha=0.1)  # alpha = 0.1 (less penalty)\n",
    "model_ridge.fit(x_train, y_train)\n",
    "y_ridge_train = model_ridge.predict(x_train)\n",
    "y_ridge_test = model_ridge.predict(x_test)"
   ]
  },
  {
   "cell_type": "code",
   "execution_count": 48,
   "id": "630e1edc",
   "metadata": {},
   "outputs": [
    {
     "name": "stdout",
     "output_type": "stream",
     "text": [
      "R2 0.7143102782002051\n",
      "MSE 75.76263212569994\n",
      "RMSE 8.704173259172864\n",
      "MAE 6.809272207884114\n",
      "MAPE 0.25437499479448866\n"
     ]
    }
   ],
   "source": [
    "# Train metrics\n",
    "\n",
    "print('R2', r2_score(y_train, y_ridge_train))\n",
    "print('MSE', mean_squared_error(y_train, y_ridge_train))\n",
    "print('RMSE', mean_squared_error(y_train, y_ridge_train)**0.5)\n",
    "print('MAE', mean_absolute_error(y_train, y_ridge_train))\n",
    "print('MAPE', mean_absolute_percentage_error(y_train, y_ridge_train))"
   ]
  },
  {
   "cell_type": "code",
   "execution_count": 49,
   "id": "69e5e993",
   "metadata": {},
   "outputs": [
    {
     "name": "stdout",
     "output_type": "stream",
     "text": [
      "R2 0.6971321879918011\n",
      "MSE 76.80210302389199\n",
      "RMSE 8.763680906097163\n",
      "MAE 6.82765259139669\n",
      "MAPE 0.24602853047220485\n"
     ]
    }
   ],
   "source": [
    "# Test metrics\n",
    "\n",
    "print('R2', r2_score(y_test, y_ridge_test))\n",
    "print('MSE', mean_squared_error(y_test, y_ridge_test))\n",
    "print('RMSE', mean_squared_error(y_test, y_ridge_test)**0.5)\n",
    "print('MAE', mean_absolute_error(y_test, y_ridge_test))\n",
    "print('MAPE', mean_absolute_percentage_error(y_test, y_ridge_test))"
   ]
  },
  {
   "cell_type": "code",
   "execution_count": 50,
   "id": "57eb6027",
   "metadata": {},
   "outputs": [
    {
     "data": {
      "text/html": [
       "<div>\n",
       "<style scoped>\n",
       "    .dataframe tbody tr th:only-of-type {\n",
       "        vertical-align: middle;\n",
       "    }\n",
       "\n",
       "    .dataframe tbody tr th {\n",
       "        vertical-align: top;\n",
       "    }\n",
       "\n",
       "    .dataframe thead th {\n",
       "        text-align: right;\n",
       "    }\n",
       "</style>\n",
       "<table border=\"1\" class=\"dataframe\">\n",
       "  <thead>\n",
       "    <tr style=\"text-align: right;\">\n",
       "      <th></th>\n",
       "      <th>Coef_lr</th>\n",
       "      <th>Coef_l2</th>\n",
       "    </tr>\n",
       "  </thead>\n",
       "  <tbody>\n",
       "    <tr>\n",
       "      <th>Blast Furnace Slag</th>\n",
       "      <td>0.080493</td>\n",
       "      <td>0.080444</td>\n",
       "    </tr>\n",
       "    <tr>\n",
       "      <th>Fly Ash</th>\n",
       "      <td>0.078325</td>\n",
       "      <td>0.078234</td>\n",
       "    </tr>\n",
       "    <tr>\n",
       "      <th>Superplasticizer</th>\n",
       "      <td>0.201586</td>\n",
       "      <td>0.202439</td>\n",
       "    </tr>\n",
       "    <tr>\n",
       "      <th>Age</th>\n",
       "      <td>0.239704</td>\n",
       "      <td>0.239698</td>\n",
       "    </tr>\n",
       "    <tr>\n",
       "      <th>Cement Water Ratio</th>\n",
       "      <td>19.145826</td>\n",
       "      <td>19.133058</td>\n",
       "    </tr>\n",
       "  </tbody>\n",
       "</table>\n",
       "</div>"
      ],
      "text/plain": [
       "                       Coef_lr    Coef_l2\n",
       "Blast Furnace Slag    0.080493   0.080444\n",
       "Fly Ash               0.078325   0.078234\n",
       "Superplasticizer      0.201586   0.202439\n",
       "Age                   0.239704   0.239698\n",
       "Cement Water Ratio   19.145826  19.133058"
      ]
     },
     "execution_count": 50,
     "metadata": {},
     "output_type": "execute_result"
    }
   ],
   "source": [
    "pd.DataFrame({'Coef_lr': model_lr.coef_, 'Coef_l2': model_ridge.coef_}, index = x.columns)"
   ]
  },
  {
   "cell_type": "code",
   "execution_count": 51,
   "id": "f6dc2636",
   "metadata": {},
   "outputs": [],
   "source": [
    "# Not much difference in both coeff as model is a generalized model"
   ]
  },
  {
   "cell_type": "markdown",
   "id": "7a327aef",
   "metadata": {},
   "source": [
    "## LASSO Regularization (L1 Penalty)"
   ]
  },
  {
   "cell_type": "code",
   "execution_count": 52,
   "id": "9985df59",
   "metadata": {},
   "outputs": [],
   "source": [
    "model_lasso = Lasso(alpha=0.1)\n",
    "model_lasso.fit(x_train, y_train)\n",
    "y_lasso_train = model_lasso.predict(x_train)\n",
    "y_lasso_test = model_lasso.predict(x_test)"
   ]
  },
  {
   "cell_type": "code",
   "execution_count": 53,
   "id": "843d0e73",
   "metadata": {},
   "outputs": [
    {
     "name": "stdout",
     "output_type": "stream",
     "text": [
      "R2 0.7141292518016429\n",
      "MSE 75.81063888055589\n",
      "RMSE 8.706930508540646\n",
      "MAE 6.81747307833748\n",
      "MAPE 0.2560019155282307\n"
     ]
    }
   ],
   "source": [
    "# Train metrics\n",
    "\n",
    "print('R2', r2_score(y_train, y_lasso_train))\n",
    "print('MSE', mean_squared_error(y_train, y_lasso_train))\n",
    "print('RMSE', mean_squared_error(y_train, y_lasso_train)**0.5)\n",
    "print('MAE', mean_absolute_error(y_train, y_lasso_train))\n",
    "print('MAPE', mean_absolute_percentage_error(y_train, y_lasso_train))"
   ]
  },
  {
   "cell_type": "code",
   "execution_count": 54,
   "id": "bc0f7ed5",
   "metadata": {},
   "outputs": [
    {
     "name": "stdout",
     "output_type": "stream",
     "text": [
      "R2 0.6984569119224616\n",
      "MSE 76.46617566625633\n",
      "RMSE 8.744494020025192\n",
      "MAE 6.809401225009745\n",
      "MAPE 0.24697762165608472\n"
     ]
    }
   ],
   "source": [
    "# Test metrics\n",
    "\n",
    "print('R2', r2_score(y_test, y_lasso_test))\n",
    "print('MSE', mean_squared_error(y_test, y_lasso_test))\n",
    "print('RMSE', mean_squared_error(y_test, y_lasso_test)**0.5)\n",
    "print('MAE', mean_absolute_error(y_test, y_lasso_test))\n",
    "print('MAPE', mean_absolute_percentage_error(y_test, y_lasso_test))"
   ]
  },
  {
   "cell_type": "code",
   "execution_count": 55,
   "id": "88fd8c91",
   "metadata": {},
   "outputs": [
    {
     "data": {
      "text/html": [
       "<div>\n",
       "<style scoped>\n",
       "    .dataframe tbody tr th:only-of-type {\n",
       "        vertical-align: middle;\n",
       "    }\n",
       "\n",
       "    .dataframe tbody tr th {\n",
       "        vertical-align: top;\n",
       "    }\n",
       "\n",
       "    .dataframe thead th {\n",
       "        text-align: right;\n",
       "    }\n",
       "</style>\n",
       "<table border=\"1\" class=\"dataframe\">\n",
       "  <thead>\n",
       "    <tr style=\"text-align: right;\">\n",
       "      <th></th>\n",
       "      <th>Coef_lr</th>\n",
       "      <th>Coef_l2</th>\n",
       "      <th>Coef_l1</th>\n",
       "    </tr>\n",
       "  </thead>\n",
       "  <tbody>\n",
       "    <tr>\n",
       "      <th>Blast Furnace Slag</th>\n",
       "      <td>0.080493</td>\n",
       "      <td>0.080444</td>\n",
       "      <td>0.078573</td>\n",
       "    </tr>\n",
       "    <tr>\n",
       "      <th>Fly Ash</th>\n",
       "      <td>0.078325</td>\n",
       "      <td>0.078234</td>\n",
       "      <td>0.074847</td>\n",
       "    </tr>\n",
       "    <tr>\n",
       "      <th>Superplasticizer</th>\n",
       "      <td>0.201586</td>\n",
       "      <td>0.202439</td>\n",
       "      <td>0.231686</td>\n",
       "    </tr>\n",
       "    <tr>\n",
       "      <th>Age</th>\n",
       "      <td>0.239704</td>\n",
       "      <td>0.239698</td>\n",
       "      <td>0.239333</td>\n",
       "    </tr>\n",
       "    <tr>\n",
       "      <th>Cement Water Ratio</th>\n",
       "      <td>19.145826</td>\n",
       "      <td>19.133058</td>\n",
       "      <td>18.641174</td>\n",
       "    </tr>\n",
       "  </tbody>\n",
       "</table>\n",
       "</div>"
      ],
      "text/plain": [
       "                       Coef_lr    Coef_l2    Coef_l1\n",
       "Blast Furnace Slag    0.080493   0.080444   0.078573\n",
       "Fly Ash               0.078325   0.078234   0.074847\n",
       "Superplasticizer      0.201586   0.202439   0.231686\n",
       "Age                   0.239704   0.239698   0.239333\n",
       "Cement Water Ratio   19.145826  19.133058  18.641174"
      ]
     },
     "execution_count": 55,
     "metadata": {},
     "output_type": "execute_result"
    }
   ],
   "source": [
    "pd.DataFrame({'Coef_lr': model_lr.coef_, 'Coef_l2': model_ridge.coef_, 'Coef_l1' : model_lasso.coef_}, index = x.columns)"
   ]
  },
  {
   "cell_type": "markdown",
   "id": "e3a14853",
   "metadata": {},
   "source": [
    "## Elastic Net Regression (L1 + L2)"
   ]
  },
  {
   "cell_type": "code",
   "execution_count": 56,
   "id": "1317e090",
   "metadata": {},
   "outputs": [],
   "source": [
    "model_en = ElasticNet(alpha=200, l1_ratio=0.2)\n",
    "model_en.fit(x_train, y_train)\n",
    "y_en_train = model_en.predict(x_train)\n",
    "y_en_test = model_en.predict(x_test)"
   ]
  },
  {
   "cell_type": "code",
   "execution_count": 57,
   "id": "4dcf3d43",
   "metadata": {},
   "outputs": [
    {
     "name": "stdout",
     "output_type": "stream",
     "text": [
      "R2 0.22434900627054677\n",
      "MSE 205.69644762033\n",
      "RMSE 14.342121447691412\n",
      "MAE 11.570321595768016\n",
      "MAPE 0.510189299062992\n"
     ]
    }
   ],
   "source": [
    "# Train metrics\n",
    "\n",
    "print('R2', r2_score(y_train, y_en_train))\n",
    "print('MSE', mean_squared_error(y_train, y_en_train))\n",
    "print('RMSE', mean_squared_error(y_train, y_en_train)**0.5)\n",
    "print('MAE', mean_absolute_error(y_train, y_en_train))\n",
    "print('MAPE', mean_absolute_percentage_error(y_train, y_en_train))"
   ]
  },
  {
   "cell_type": "code",
   "execution_count": 58,
   "id": "e696dd59",
   "metadata": {},
   "outputs": [
    {
     "name": "stdout",
     "output_type": "stream",
     "text": [
      "R2 0.23867069333201696\n",
      "MSE 193.06010585317597\n",
      "RMSE 13.894607078042041\n",
      "MAE 10.93563798300138\n",
      "MAPE 0.44859773893156796\n"
     ]
    }
   ],
   "source": [
    "# Test metrics\n",
    "\n",
    "print('R2', r2_score(y_test, y_en_test))\n",
    "print('MSE', mean_squared_error(y_test, y_en_test))\n",
    "print('RMSE', mean_squared_error(y_test, y_en_test)**0.5)\n",
    "print('MAE', mean_absolute_error(y_test, y_en_test))\n",
    "print('MAPE', mean_absolute_percentage_error(y_test, y_en_test))"
   ]
  },
  {
   "cell_type": "code",
   "execution_count": 59,
   "id": "064d843d",
   "metadata": {},
   "outputs": [
    {
     "data": {
      "text/html": [
       "<div>\n",
       "<style scoped>\n",
       "    .dataframe tbody tr th:only-of-type {\n",
       "        vertical-align: middle;\n",
       "    }\n",
       "\n",
       "    .dataframe tbody tr th {\n",
       "        vertical-align: top;\n",
       "    }\n",
       "\n",
       "    .dataframe thead th {\n",
       "        text-align: right;\n",
       "    }\n",
       "</style>\n",
       "<table border=\"1\" class=\"dataframe\">\n",
       "  <thead>\n",
       "    <tr style=\"text-align: right;\">\n",
       "      <th></th>\n",
       "      <th>Coef_lr</th>\n",
       "      <th>Coef_l2</th>\n",
       "      <th>Coef_l1</th>\n",
       "      <th>Coeff_en</th>\n",
       "    </tr>\n",
       "  </thead>\n",
       "  <tbody>\n",
       "    <tr>\n",
       "      <th>Blast Furnace Slag</th>\n",
       "      <td>0.080493</td>\n",
       "      <td>0.080444</td>\n",
       "      <td>0.078573</td>\n",
       "      <td>0.016107</td>\n",
       "    </tr>\n",
       "    <tr>\n",
       "      <th>Fly Ash</th>\n",
       "      <td>0.078325</td>\n",
       "      <td>0.078234</td>\n",
       "      <td>0.074847</td>\n",
       "      <td>0.000000</td>\n",
       "    </tr>\n",
       "    <tr>\n",
       "      <th>Superplasticizer</th>\n",
       "      <td>0.201586</td>\n",
       "      <td>0.202439</td>\n",
       "      <td>0.231686</td>\n",
       "      <td>0.000000</td>\n",
       "    </tr>\n",
       "    <tr>\n",
       "      <th>Age</th>\n",
       "      <td>0.239704</td>\n",
       "      <td>0.239698</td>\n",
       "      <td>0.239333</td>\n",
       "      <td>0.162752</td>\n",
       "    </tr>\n",
       "    <tr>\n",
       "      <th>Cement Water Ratio</th>\n",
       "      <td>19.145826</td>\n",
       "      <td>19.133058</td>\n",
       "      <td>18.641174</td>\n",
       "      <td>0.000000</td>\n",
       "    </tr>\n",
       "  </tbody>\n",
       "</table>\n",
       "</div>"
      ],
      "text/plain": [
       "                       Coef_lr    Coef_l2    Coef_l1  Coeff_en\n",
       "Blast Furnace Slag    0.080493   0.080444   0.078573  0.016107\n",
       "Fly Ash               0.078325   0.078234   0.074847  0.000000\n",
       "Superplasticizer      0.201586   0.202439   0.231686  0.000000\n",
       "Age                   0.239704   0.239698   0.239333  0.162752\n",
       "Cement Water Ratio   19.145826  19.133058  18.641174  0.000000"
      ]
     },
     "execution_count": 59,
     "metadata": {},
     "output_type": "execute_result"
    }
   ],
   "source": [
    "pd.DataFrame({'Coef_lr': model_lr.coef_, 'Coef_l2': model_ridge.coef_, 'Coef_l1' : model_lasso.coef_, \n",
    "              'Coeff_en' : model_en.coef_}, index = x.columns)"
   ]
  },
  {
   "cell_type": "markdown",
   "id": "8d21be7b",
   "metadata": {},
   "source": [
    "## Hyperparameter Tuning"
   ]
  },
  {
   "cell_type": "code",
   "execution_count": 60,
   "id": "be74784c",
   "metadata": {},
   "outputs": [],
   "source": [
    "from sklearn.model_selection import GridSearchCV"
   ]
  },
  {
   "cell_type": "code",
   "execution_count": 61,
   "id": "df315c71",
   "metadata": {},
   "outputs": [
    {
     "data": {
      "text/plain": [
       "{'alpha': [0.01, 0.05, 0.1, 0.5, 1]}"
      ]
     },
     "execution_count": 61,
     "metadata": {},
     "output_type": "execute_result"
    }
   ],
   "source": [
    "grid = {'alpha':[0.01, 0.05, 0.1, 0.5, 1]}\n",
    "grid"
   ]
  },
  {
   "cell_type": "code",
   "execution_count": 62,
   "id": "1ceed9cb",
   "metadata": {},
   "outputs": [],
   "source": [
    "gscv = GridSearchCV(estimator=Ridge(), param_grid=grid, cv=5, scoring='r2', verbose=3)"
   ]
  },
  {
   "cell_type": "code",
   "execution_count": 63,
   "id": "2c36dc21",
   "metadata": {},
   "outputs": [
    {
     "name": "stdout",
     "output_type": "stream",
     "text": [
      "Fitting 5 folds for each of 5 candidates, totalling 25 fits\n",
      "[CV 1/5] END ........................alpha=0.01;, score=0.724 total time=   0.0s\n",
      "[CV 2/5] END ........................alpha=0.01;, score=0.706 total time=   0.0s\n",
      "[CV 3/5] END ........................alpha=0.01;, score=0.727 total time=   0.0s\n",
      "[CV 4/5] END ........................alpha=0.01;, score=0.678 total time=   0.0s\n",
      "[CV 5/5] END ........................alpha=0.01;, score=0.710 total time=   0.0s\n",
      "[CV 1/5] END ........................alpha=0.05;, score=0.724 total time=   0.0s\n",
      "[CV 2/5] END ........................alpha=0.05;, score=0.706 total time=   0.0s\n",
      "[CV 3/5] END ........................alpha=0.05;, score=0.727 total time=   0.0s\n",
      "[CV 4/5] END ........................alpha=0.05;, score=0.678 total time=   0.0s\n",
      "[CV 5/5] END ........................alpha=0.05;, score=0.710 total time=   0.0s\n",
      "[CV 1/5] END .........................alpha=0.1;, score=0.724 total time=   0.0s\n",
      "[CV 2/5] END .........................alpha=0.1;, score=0.706 total time=   0.0s\n",
      "[CV 3/5] END .........................alpha=0.1;, score=0.727 total time=   0.0s\n",
      "[CV 4/5] END .........................alpha=0.1;, score=0.678 total time=   0.0s\n",
      "[CV 5/5] END .........................alpha=0.1;, score=0.710 total time=   0.0s\n",
      "[CV 1/5] END .........................alpha=0.5;, score=0.724 total time=   0.0s\n",
      "[CV 2/5] END .........................alpha=0.5;, score=0.706 total time=   0.0s\n",
      "[CV 3/5] END .........................alpha=0.5;, score=0.726 total time=   0.0s\n",
      "[CV 4/5] END .........................alpha=0.5;, score=0.677 total time=   0.0s\n",
      "[CV 5/5] END .........................alpha=0.5;, score=0.710 total time=   0.0s\n",
      "[CV 1/5] END ...........................alpha=1;, score=0.724 total time=   0.0s\n",
      "[CV 2/5] END ...........................alpha=1;, score=0.706 total time=   0.0s\n",
      "[CV 3/5] END ...........................alpha=1;, score=0.726 total time=   0.0s\n",
      "[CV 4/5] END ...........................alpha=1;, score=0.677 total time=   0.0s\n",
      "[CV 5/5] END ...........................alpha=1;, score=0.710 total time=   0.0s\n"
     ]
    },
    {
     "data": {
      "text/html": [
       "<style>#sk-container-id-1 {color: black;background-color: white;}#sk-container-id-1 pre{padding: 0;}#sk-container-id-1 div.sk-toggleable {background-color: white;}#sk-container-id-1 label.sk-toggleable__label {cursor: pointer;display: block;width: 100%;margin-bottom: 0;padding: 0.3em;box-sizing: border-box;text-align: center;}#sk-container-id-1 label.sk-toggleable__label-arrow:before {content: \"▸\";float: left;margin-right: 0.25em;color: #696969;}#sk-container-id-1 label.sk-toggleable__label-arrow:hover:before {color: black;}#sk-container-id-1 div.sk-estimator:hover label.sk-toggleable__label-arrow:before {color: black;}#sk-container-id-1 div.sk-toggleable__content {max-height: 0;max-width: 0;overflow: hidden;text-align: left;background-color: #f0f8ff;}#sk-container-id-1 div.sk-toggleable__content pre {margin: 0.2em;color: black;border-radius: 0.25em;background-color: #f0f8ff;}#sk-container-id-1 input.sk-toggleable__control:checked~div.sk-toggleable__content {max-height: 200px;max-width: 100%;overflow: auto;}#sk-container-id-1 input.sk-toggleable__control:checked~label.sk-toggleable__label-arrow:before {content: \"▾\";}#sk-container-id-1 div.sk-estimator input.sk-toggleable__control:checked~label.sk-toggleable__label {background-color: #d4ebff;}#sk-container-id-1 div.sk-label input.sk-toggleable__control:checked~label.sk-toggleable__label {background-color: #d4ebff;}#sk-container-id-1 input.sk-hidden--visually {border: 0;clip: rect(1px 1px 1px 1px);clip: rect(1px, 1px, 1px, 1px);height: 1px;margin: -1px;overflow: hidden;padding: 0;position: absolute;width: 1px;}#sk-container-id-1 div.sk-estimator {font-family: monospace;background-color: #f0f8ff;border: 1px dotted black;border-radius: 0.25em;box-sizing: border-box;margin-bottom: 0.5em;}#sk-container-id-1 div.sk-estimator:hover {background-color: #d4ebff;}#sk-container-id-1 div.sk-parallel-item::after {content: \"\";width: 100%;border-bottom: 1px solid gray;flex-grow: 1;}#sk-container-id-1 div.sk-label:hover label.sk-toggleable__label {background-color: #d4ebff;}#sk-container-id-1 div.sk-serial::before {content: \"\";position: absolute;border-left: 1px solid gray;box-sizing: border-box;top: 0;bottom: 0;left: 50%;z-index: 0;}#sk-container-id-1 div.sk-serial {display: flex;flex-direction: column;align-items: center;background-color: white;padding-right: 0.2em;padding-left: 0.2em;position: relative;}#sk-container-id-1 div.sk-item {position: relative;z-index: 1;}#sk-container-id-1 div.sk-parallel {display: flex;align-items: stretch;justify-content: center;background-color: white;position: relative;}#sk-container-id-1 div.sk-item::before, #sk-container-id-1 div.sk-parallel-item::before {content: \"\";position: absolute;border-left: 1px solid gray;box-sizing: border-box;top: 0;bottom: 0;left: 50%;z-index: -1;}#sk-container-id-1 div.sk-parallel-item {display: flex;flex-direction: column;z-index: 1;position: relative;background-color: white;}#sk-container-id-1 div.sk-parallel-item:first-child::after {align-self: flex-end;width: 50%;}#sk-container-id-1 div.sk-parallel-item:last-child::after {align-self: flex-start;width: 50%;}#sk-container-id-1 div.sk-parallel-item:only-child::after {width: 0;}#sk-container-id-1 div.sk-dashed-wrapped {border: 1px dashed gray;margin: 0 0.4em 0.5em 0.4em;box-sizing: border-box;padding-bottom: 0.4em;background-color: white;}#sk-container-id-1 div.sk-label label {font-family: monospace;font-weight: bold;display: inline-block;line-height: 1.2em;}#sk-container-id-1 div.sk-label-container {text-align: center;}#sk-container-id-1 div.sk-container {/* jupyter's `normalize.less` sets `[hidden] { display: none; }` but bootstrap.min.css set `[hidden] { display: none !important; }` so we also need the `!important` here to be able to override the default hidden behavior on the sphinx rendered scikit-learn.org. See: https://github.com/scikit-learn/scikit-learn/issues/21755 */display: inline-block !important;position: relative;}#sk-container-id-1 div.sk-text-repr-fallback {display: none;}</style><div id=\"sk-container-id-1\" class=\"sk-top-container\"><div class=\"sk-text-repr-fallback\"><pre>GridSearchCV(cv=5, estimator=Ridge(),\n",
       "             param_grid={&#x27;alpha&#x27;: [0.01, 0.05, 0.1, 0.5, 1]}, scoring=&#x27;r2&#x27;,\n",
       "             verbose=3)</pre><b>In a Jupyter environment, please rerun this cell to show the HTML representation or trust the notebook. <br />On GitHub, the HTML representation is unable to render, please try loading this page with nbviewer.org.</b></div><div class=\"sk-container\" hidden><div class=\"sk-item sk-dashed-wrapped\"><div class=\"sk-label-container\"><div class=\"sk-label sk-toggleable\"><input class=\"sk-toggleable__control sk-hidden--visually\" id=\"sk-estimator-id-1\" type=\"checkbox\" ><label for=\"sk-estimator-id-1\" class=\"sk-toggleable__label sk-toggleable__label-arrow\">GridSearchCV</label><div class=\"sk-toggleable__content\"><pre>GridSearchCV(cv=5, estimator=Ridge(),\n",
       "             param_grid={&#x27;alpha&#x27;: [0.01, 0.05, 0.1, 0.5, 1]}, scoring=&#x27;r2&#x27;,\n",
       "             verbose=3)</pre></div></div></div><div class=\"sk-parallel\"><div class=\"sk-parallel-item\"><div class=\"sk-item\"><div class=\"sk-label-container\"><div class=\"sk-label sk-toggleable\"><input class=\"sk-toggleable__control sk-hidden--visually\" id=\"sk-estimator-id-2\" type=\"checkbox\" ><label for=\"sk-estimator-id-2\" class=\"sk-toggleable__label sk-toggleable__label-arrow\">estimator: Ridge</label><div class=\"sk-toggleable__content\"><pre>Ridge()</pre></div></div></div><div class=\"sk-serial\"><div class=\"sk-item\"><div class=\"sk-estimator sk-toggleable\"><input class=\"sk-toggleable__control sk-hidden--visually\" id=\"sk-estimator-id-3\" type=\"checkbox\" ><label for=\"sk-estimator-id-3\" class=\"sk-toggleable__label sk-toggleable__label-arrow\">Ridge</label><div class=\"sk-toggleable__content\"><pre>Ridge()</pre></div></div></div></div></div></div></div></div></div></div>"
      ],
      "text/plain": [
       "GridSearchCV(cv=5, estimator=Ridge(),\n",
       "             param_grid={'alpha': [0.01, 0.05, 0.1, 0.5, 1]}, scoring='r2',\n",
       "             verbose=3)"
      ]
     },
     "execution_count": 63,
     "metadata": {},
     "output_type": "execute_result"
    }
   ],
   "source": [
    "gscv.fit(x_train, y_train)"
   ]
  },
  {
   "cell_type": "code",
   "execution_count": 64,
   "id": "8844dc4b",
   "metadata": {},
   "outputs": [
    {
     "data": {
      "text/plain": [
       "{'alpha': 0.01}"
      ]
     },
     "execution_count": 64,
     "metadata": {},
     "output_type": "execute_result"
    }
   ],
   "source": [
    "gscv.best_params_"
   ]
  },
  {
   "cell_type": "code",
   "execution_count": 65,
   "id": "493ed269",
   "metadata": {},
   "outputs": [
    {
     "data": {
      "text/plain": [
       "0.7089252575053908"
      ]
     },
     "execution_count": 65,
     "metadata": {},
     "output_type": "execute_result"
    }
   ],
   "source": [
    "gscv.best_score_"
   ]
  },
  {
   "cell_type": "code",
   "execution_count": 66,
   "id": "5f46afd2",
   "metadata": {},
   "outputs": [],
   "source": [
    "gscv = GridSearchCV(estimator=Lasso(), param_grid=grid, cv=5, scoring='r2', verbose=3)"
   ]
  },
  {
   "cell_type": "code",
   "execution_count": 67,
   "id": "ddf8cf4c",
   "metadata": {},
   "outputs": [
    {
     "name": "stdout",
     "output_type": "stream",
     "text": [
      "Fitting 5 folds for each of 5 candidates, totalling 25 fits\n",
      "[CV 1/5] END ........................alpha=0.01;, score=0.724 total time=   0.0s\n",
      "[CV 2/5] END ........................alpha=0.01;, score=0.706 total time=   0.0s\n",
      "[CV 3/5] END ........................alpha=0.01;, score=0.726 total time=   0.0s\n",
      "[CV 4/5] END ........................alpha=0.01;, score=0.678 total time=   0.0s\n",
      "[CV 5/5] END ........................alpha=0.01;, score=0.710 total time=   0.0s\n",
      "[CV 1/5] END ........................alpha=0.05;, score=0.724 total time=   0.0s\n",
      "[CV 2/5] END ........................alpha=0.05;, score=0.707 total time=   0.0s\n",
      "[CV 3/5] END ........................alpha=0.05;, score=0.726 total time=   0.0s\n",
      "[CV 4/5] END ........................alpha=0.05;, score=0.677 total time=   0.0s\n",
      "[CV 5/5] END ........................alpha=0.05;, score=0.710 total time=   0.0s\n",
      "[CV 1/5] END .........................alpha=0.1;, score=0.724 total time=   0.0s\n",
      "[CV 2/5] END .........................alpha=0.1;, score=0.707 total time=   0.0s\n",
      "[CV 3/5] END .........................alpha=0.1;, score=0.725 total time=   0.0s\n",
      "[CV 4/5] END .........................alpha=0.1;, score=0.677 total time=   0.0s\n",
      "[CV 5/5] END .........................alpha=0.1;, score=0.710 total time=   0.0s\n",
      "[CV 1/5] END .........................alpha=0.5;, score=0.720 total time=   0.0s\n",
      "[CV 2/5] END .........................alpha=0.5;, score=0.710 total time=   0.0s\n",
      "[CV 3/5] END .........................alpha=0.5;, score=0.714 total time=   0.0s\n",
      "[CV 4/5] END .........................alpha=0.5;, score=0.670 total time=   0.0s\n",
      "[CV 5/5] END .........................alpha=0.5;, score=0.706 total time=   0.0s\n",
      "[CV 1/5] END ...........................alpha=1;, score=0.707 total time=   0.0s\n",
      "[CV 2/5] END ...........................alpha=1;, score=0.707 total time=   0.0s\n",
      "[CV 3/5] END ...........................alpha=1;, score=0.691 total time=   0.0s\n",
      "[CV 4/5] END ...........................alpha=1;, score=0.653 total time=   0.0s\n",
      "[CV 5/5] END ...........................alpha=1;, score=0.692 total time=   0.0s\n"
     ]
    },
    {
     "data": {
      "text/html": [
       "<style>#sk-container-id-2 {color: black;background-color: white;}#sk-container-id-2 pre{padding: 0;}#sk-container-id-2 div.sk-toggleable {background-color: white;}#sk-container-id-2 label.sk-toggleable__label {cursor: pointer;display: block;width: 100%;margin-bottom: 0;padding: 0.3em;box-sizing: border-box;text-align: center;}#sk-container-id-2 label.sk-toggleable__label-arrow:before {content: \"▸\";float: left;margin-right: 0.25em;color: #696969;}#sk-container-id-2 label.sk-toggleable__label-arrow:hover:before {color: black;}#sk-container-id-2 div.sk-estimator:hover label.sk-toggleable__label-arrow:before {color: black;}#sk-container-id-2 div.sk-toggleable__content {max-height: 0;max-width: 0;overflow: hidden;text-align: left;background-color: #f0f8ff;}#sk-container-id-2 div.sk-toggleable__content pre {margin: 0.2em;color: black;border-radius: 0.25em;background-color: #f0f8ff;}#sk-container-id-2 input.sk-toggleable__control:checked~div.sk-toggleable__content {max-height: 200px;max-width: 100%;overflow: auto;}#sk-container-id-2 input.sk-toggleable__control:checked~label.sk-toggleable__label-arrow:before {content: \"▾\";}#sk-container-id-2 div.sk-estimator input.sk-toggleable__control:checked~label.sk-toggleable__label {background-color: #d4ebff;}#sk-container-id-2 div.sk-label input.sk-toggleable__control:checked~label.sk-toggleable__label {background-color: #d4ebff;}#sk-container-id-2 input.sk-hidden--visually {border: 0;clip: rect(1px 1px 1px 1px);clip: rect(1px, 1px, 1px, 1px);height: 1px;margin: -1px;overflow: hidden;padding: 0;position: absolute;width: 1px;}#sk-container-id-2 div.sk-estimator {font-family: monospace;background-color: #f0f8ff;border: 1px dotted black;border-radius: 0.25em;box-sizing: border-box;margin-bottom: 0.5em;}#sk-container-id-2 div.sk-estimator:hover {background-color: #d4ebff;}#sk-container-id-2 div.sk-parallel-item::after {content: \"\";width: 100%;border-bottom: 1px solid gray;flex-grow: 1;}#sk-container-id-2 div.sk-label:hover label.sk-toggleable__label {background-color: #d4ebff;}#sk-container-id-2 div.sk-serial::before {content: \"\";position: absolute;border-left: 1px solid gray;box-sizing: border-box;top: 0;bottom: 0;left: 50%;z-index: 0;}#sk-container-id-2 div.sk-serial {display: flex;flex-direction: column;align-items: center;background-color: white;padding-right: 0.2em;padding-left: 0.2em;position: relative;}#sk-container-id-2 div.sk-item {position: relative;z-index: 1;}#sk-container-id-2 div.sk-parallel {display: flex;align-items: stretch;justify-content: center;background-color: white;position: relative;}#sk-container-id-2 div.sk-item::before, #sk-container-id-2 div.sk-parallel-item::before {content: \"\";position: absolute;border-left: 1px solid gray;box-sizing: border-box;top: 0;bottom: 0;left: 50%;z-index: -1;}#sk-container-id-2 div.sk-parallel-item {display: flex;flex-direction: column;z-index: 1;position: relative;background-color: white;}#sk-container-id-2 div.sk-parallel-item:first-child::after {align-self: flex-end;width: 50%;}#sk-container-id-2 div.sk-parallel-item:last-child::after {align-self: flex-start;width: 50%;}#sk-container-id-2 div.sk-parallel-item:only-child::after {width: 0;}#sk-container-id-2 div.sk-dashed-wrapped {border: 1px dashed gray;margin: 0 0.4em 0.5em 0.4em;box-sizing: border-box;padding-bottom: 0.4em;background-color: white;}#sk-container-id-2 div.sk-label label {font-family: monospace;font-weight: bold;display: inline-block;line-height: 1.2em;}#sk-container-id-2 div.sk-label-container {text-align: center;}#sk-container-id-2 div.sk-container {/* jupyter's `normalize.less` sets `[hidden] { display: none; }` but bootstrap.min.css set `[hidden] { display: none !important; }` so we also need the `!important` here to be able to override the default hidden behavior on the sphinx rendered scikit-learn.org. See: https://github.com/scikit-learn/scikit-learn/issues/21755 */display: inline-block !important;position: relative;}#sk-container-id-2 div.sk-text-repr-fallback {display: none;}</style><div id=\"sk-container-id-2\" class=\"sk-top-container\"><div class=\"sk-text-repr-fallback\"><pre>GridSearchCV(cv=5, estimator=Lasso(),\n",
       "             param_grid={&#x27;alpha&#x27;: [0.01, 0.05, 0.1, 0.5, 1]}, scoring=&#x27;r2&#x27;,\n",
       "             verbose=3)</pre><b>In a Jupyter environment, please rerun this cell to show the HTML representation or trust the notebook. <br />On GitHub, the HTML representation is unable to render, please try loading this page with nbviewer.org.</b></div><div class=\"sk-container\" hidden><div class=\"sk-item sk-dashed-wrapped\"><div class=\"sk-label-container\"><div class=\"sk-label sk-toggleable\"><input class=\"sk-toggleable__control sk-hidden--visually\" id=\"sk-estimator-id-4\" type=\"checkbox\" ><label for=\"sk-estimator-id-4\" class=\"sk-toggleable__label sk-toggleable__label-arrow\">GridSearchCV</label><div class=\"sk-toggleable__content\"><pre>GridSearchCV(cv=5, estimator=Lasso(),\n",
       "             param_grid={&#x27;alpha&#x27;: [0.01, 0.05, 0.1, 0.5, 1]}, scoring=&#x27;r2&#x27;,\n",
       "             verbose=3)</pre></div></div></div><div class=\"sk-parallel\"><div class=\"sk-parallel-item\"><div class=\"sk-item\"><div class=\"sk-label-container\"><div class=\"sk-label sk-toggleable\"><input class=\"sk-toggleable__control sk-hidden--visually\" id=\"sk-estimator-id-5\" type=\"checkbox\" ><label for=\"sk-estimator-id-5\" class=\"sk-toggleable__label sk-toggleable__label-arrow\">estimator: Lasso</label><div class=\"sk-toggleable__content\"><pre>Lasso()</pre></div></div></div><div class=\"sk-serial\"><div class=\"sk-item\"><div class=\"sk-estimator sk-toggleable\"><input class=\"sk-toggleable__control sk-hidden--visually\" id=\"sk-estimator-id-6\" type=\"checkbox\" ><label for=\"sk-estimator-id-6\" class=\"sk-toggleable__label sk-toggleable__label-arrow\">Lasso</label><div class=\"sk-toggleable__content\"><pre>Lasso()</pre></div></div></div></div></div></div></div></div></div></div>"
      ],
      "text/plain": [
       "GridSearchCV(cv=5, estimator=Lasso(),\n",
       "             param_grid={'alpha': [0.01, 0.05, 0.1, 0.5, 1]}, scoring='r2',\n",
       "             verbose=3)"
      ]
     },
     "execution_count": 67,
     "metadata": {},
     "output_type": "execute_result"
    }
   ],
   "source": [
    "gscv.fit(x_train, y_train)"
   ]
  },
  {
   "cell_type": "code",
   "execution_count": 68,
   "id": "723bec9b",
   "metadata": {},
   "outputs": [
    {
     "data": {
      "text/plain": [
       "{'alpha': 0.01}"
      ]
     },
     "execution_count": 68,
     "metadata": {},
     "output_type": "execute_result"
    }
   ],
   "source": [
    "gscv.best_params_"
   ]
  },
  {
   "cell_type": "code",
   "execution_count": 69,
   "id": "fdbae277",
   "metadata": {},
   "outputs": [
    {
     "data": {
      "text/plain": [
       "0.7089214444069972"
      ]
     },
     "execution_count": 69,
     "metadata": {},
     "output_type": "execute_result"
    }
   ],
   "source": [
    "gscv.best_score_"
   ]
  },
  {
   "cell_type": "code",
   "execution_count": 70,
   "id": "382d290c",
   "metadata": {},
   "outputs": [],
   "source": [
    "grid = {'alpha' :[0.01, 0.05, 0.1, 0.5, 1],\n",
    "        'l1_ratio' : [0.05, 0.1, 0.15, 0.2]}"
   ]
  },
  {
   "cell_type": "code",
   "execution_count": 71,
   "id": "45db26ec",
   "metadata": {},
   "outputs": [],
   "source": [
    "gscv = GridSearchCV(estimator=ElasticNet(), param_grid=grid, cv=5, scoring='r2', verbose=3)"
   ]
  },
  {
   "cell_type": "code",
   "execution_count": 72,
   "id": "954da217",
   "metadata": {},
   "outputs": [
    {
     "name": "stdout",
     "output_type": "stream",
     "text": [
      "Fitting 5 folds for each of 20 candidates, totalling 100 fits\n",
      "[CV 1/5] END .........alpha=0.01, l1_ratio=0.05;, score=0.724 total time=   0.0s\n",
      "[CV 2/5] END .........alpha=0.01, l1_ratio=0.05;, score=0.709 total time=   0.0s\n",
      "[CV 3/5] END .........alpha=0.01, l1_ratio=0.05;, score=0.723 total time=   0.0s\n",
      "[CV 4/5] END .........alpha=0.01, l1_ratio=0.05;, score=0.676 total time=   0.0s\n",
      "[CV 5/5] END .........alpha=0.01, l1_ratio=0.05;, score=0.710 total time=   0.0s\n",
      "[CV 1/5] END ..........alpha=0.01, l1_ratio=0.1;, score=0.724 total time=   0.0s\n",
      "[CV 2/5] END ..........alpha=0.01, l1_ratio=0.1;, score=0.709 total time=   0.0s\n",
      "[CV 3/5] END ..........alpha=0.01, l1_ratio=0.1;, score=0.723 total time=   0.0s\n",
      "[CV 4/5] END ..........alpha=0.01, l1_ratio=0.1;, score=0.676 total time=   0.0s\n",
      "[CV 5/5] END ..........alpha=0.01, l1_ratio=0.1;, score=0.710 total time=   0.0s\n",
      "[CV 1/5] END .........alpha=0.01, l1_ratio=0.15;, score=0.724 total time=   0.0s\n",
      "[CV 2/5] END .........alpha=0.01, l1_ratio=0.15;, score=0.708 total time=   0.0s\n",
      "[CV 3/5] END .........alpha=0.01, l1_ratio=0.15;, score=0.723 total time=   0.0s\n",
      "[CV 4/5] END .........alpha=0.01, l1_ratio=0.15;, score=0.676 total time=   0.0s\n",
      "[CV 5/5] END .........alpha=0.01, l1_ratio=0.15;, score=0.710 total time=   0.0s\n",
      "[CV 1/5] END ..........alpha=0.01, l1_ratio=0.2;, score=0.724 total time=   0.0s\n",
      "[CV 2/5] END ..........alpha=0.01, l1_ratio=0.2;, score=0.708 total time=   0.0s\n",
      "[CV 3/5] END ..........alpha=0.01, l1_ratio=0.2;, score=0.723 total time=   0.0s\n",
      "[CV 4/5] END ..........alpha=0.01, l1_ratio=0.2;, score=0.676 total time=   0.0s\n",
      "[CV 5/5] END ..........alpha=0.01, l1_ratio=0.2;, score=0.710 total time=   0.0s\n",
      "[CV 1/5] END .........alpha=0.05, l1_ratio=0.05;, score=0.715 total time=   0.0s\n",
      "[CV 2/5] END .........alpha=0.05, l1_ratio=0.05;, score=0.710 total time=   0.0s\n",
      "[CV 3/5] END .........alpha=0.05, l1_ratio=0.05;, score=0.702 total time=   0.0s\n",
      "[CV 4/5] END .........alpha=0.05, l1_ratio=0.05;, score=0.662 total time=   0.0s\n",
      "[CV 5/5] END .........alpha=0.05, l1_ratio=0.05;, score=0.701 total time=   0.0s\n",
      "[CV 1/5] END ..........alpha=0.05, l1_ratio=0.1;, score=0.715 total time=   0.0s\n",
      "[CV 2/5] END ..........alpha=0.05, l1_ratio=0.1;, score=0.711 total time=   0.0s\n",
      "[CV 3/5] END ..........alpha=0.05, l1_ratio=0.1;, score=0.704 total time=   0.0s\n",
      "[CV 4/5] END ..........alpha=0.05, l1_ratio=0.1;, score=0.663 total time=   0.0s\n",
      "[CV 5/5] END ..........alpha=0.05, l1_ratio=0.1;, score=0.702 total time=   0.0s\n",
      "[CV 1/5] END .........alpha=0.05, l1_ratio=0.15;, score=0.716 total time=   0.0s\n",
      "[CV 2/5] END .........alpha=0.05, l1_ratio=0.15;, score=0.711 total time=   0.0s\n",
      "[CV 3/5] END .........alpha=0.05, l1_ratio=0.15;, score=0.705 total time=   0.0s\n",
      "[CV 4/5] END .........alpha=0.05, l1_ratio=0.15;, score=0.664 total time=   0.0s\n",
      "[CV 5/5] END .........alpha=0.05, l1_ratio=0.15;, score=0.703 total time=   0.0s\n",
      "[CV 1/5] END ..........alpha=0.05, l1_ratio=0.2;, score=0.717 total time=   0.0s\n",
      "[CV 2/5] END ..........alpha=0.05, l1_ratio=0.2;, score=0.711 total time=   0.0s\n",
      "[CV 3/5] END ..........alpha=0.05, l1_ratio=0.2;, score=0.707 total time=   0.0s\n",
      "[CV 4/5] END ..........alpha=0.05, l1_ratio=0.2;, score=0.665 total time=   0.0s\n",
      "[CV 5/5] END ..........alpha=0.05, l1_ratio=0.2;, score=0.703 total time=   0.0s\n",
      "[CV 1/5] END ..........alpha=0.1, l1_ratio=0.05;, score=0.696 total time=   0.0s\n",
      "[CV 2/5] END ..........alpha=0.1, l1_ratio=0.05;, score=0.702 total time=   0.0s\n",
      "[CV 3/5] END ..........alpha=0.1, l1_ratio=0.05;, score=0.674 total time=   0.0s\n",
      "[CV 4/5] END ..........alpha=0.1, l1_ratio=0.05;, score=0.641 total time=   0.0s\n",
      "[CV 5/5] END ..........alpha=0.1, l1_ratio=0.05;, score=0.682 total time=   0.0s\n",
      "[CV 1/5] END ...........alpha=0.1, l1_ratio=0.1;, score=0.698 total time=   0.0s\n",
      "[CV 2/5] END ...........alpha=0.1, l1_ratio=0.1;, score=0.703 total time=   0.0s\n",
      "[CV 3/5] END ...........alpha=0.1, l1_ratio=0.1;, score=0.677 total time=   0.0s\n",
      "[CV 4/5] END ...........alpha=0.1, l1_ratio=0.1;, score=0.643 total time=   0.0s\n",
      "[CV 5/5] END ...........alpha=0.1, l1_ratio=0.1;, score=0.684 total time=   0.0s\n",
      "[CV 1/5] END ..........alpha=0.1, l1_ratio=0.15;, score=0.700 total time=   0.0s\n",
      "[CV 2/5] END ..........alpha=0.1, l1_ratio=0.15;, score=0.704 total time=   0.0s\n",
      "[CV 3/5] END ..........alpha=0.1, l1_ratio=0.15;, score=0.680 total time=   0.0s\n",
      "[CV 4/5] END ..........alpha=0.1, l1_ratio=0.15;, score=0.645 total time=   0.0s\n",
      "[CV 5/5] END ..........alpha=0.1, l1_ratio=0.15;, score=0.686 total time=   0.0s\n",
      "[CV 1/5] END ...........alpha=0.1, l1_ratio=0.2;, score=0.702 total time=   0.0s\n",
      "[CV 2/5] END ...........alpha=0.1, l1_ratio=0.2;, score=0.705 total time=   0.0s\n",
      "[CV 3/5] END ...........alpha=0.1, l1_ratio=0.2;, score=0.682 total time=   0.0s\n",
      "[CV 4/5] END ...........alpha=0.1, l1_ratio=0.2;, score=0.647 total time=   0.0s\n",
      "[CV 5/5] END ...........alpha=0.1, l1_ratio=0.2;, score=0.688 total time=   0.0s\n",
      "[CV 1/5] END ..........alpha=0.5, l1_ratio=0.05;, score=0.592 total time=   0.0s\n",
      "[CV 2/5] END ..........alpha=0.5, l1_ratio=0.05;, score=0.630 total time=   0.0s\n",
      "[CV 3/5] END ..........alpha=0.5, l1_ratio=0.05;, score=0.544 total time=   0.0s\n",
      "[CV 4/5] END ..........alpha=0.5, l1_ratio=0.05;, score=0.532 total time=   0.0s\n",
      "[CV 5/5] END ..........alpha=0.5, l1_ratio=0.05;, score=0.575 total time=   0.0s\n",
      "[CV 1/5] END ...........alpha=0.5, l1_ratio=0.1;, score=0.595 total time=   0.0s\n",
      "[CV 2/5] END ...........alpha=0.5, l1_ratio=0.1;, score=0.632 total time=   0.0s\n",
      "[CV 3/5] END ...........alpha=0.5, l1_ratio=0.1;, score=0.548 total time=   0.0s\n",
      "[CV 4/5] END ...........alpha=0.5, l1_ratio=0.1;, score=0.536 total time=   0.0s\n",
      "[CV 5/5] END ...........alpha=0.5, l1_ratio=0.1;, score=0.579 total time=   0.0s\n",
      "[CV 1/5] END ..........alpha=0.5, l1_ratio=0.15;, score=0.599 total time=   0.0s\n",
      "[CV 2/5] END ..........alpha=0.5, l1_ratio=0.15;, score=0.635 total time=   0.0s\n",
      "[CV 3/5] END ..........alpha=0.5, l1_ratio=0.15;, score=0.552 total time=   0.0s\n",
      "[CV 4/5] END ..........alpha=0.5, l1_ratio=0.15;, score=0.539 total time=   0.0s\n",
      "[CV 5/5] END ..........alpha=0.5, l1_ratio=0.15;, score=0.583 total time=   0.0s\n",
      "[CV 1/5] END ...........alpha=0.5, l1_ratio=0.2;, score=0.603 total time=   0.0s\n",
      "[CV 2/5] END ...........alpha=0.5, l1_ratio=0.2;, score=0.638 total time=   0.0s\n",
      "[CV 3/5] END ...........alpha=0.5, l1_ratio=0.2;, score=0.556 total time=   0.0s\n",
      "[CV 4/5] END ...........alpha=0.5, l1_ratio=0.2;, score=0.543 total time=   0.0s\n",
      "[CV 5/5] END ...........alpha=0.5, l1_ratio=0.2;, score=0.586 total time=   0.0s\n",
      "[CV 1/5] END ............alpha=1, l1_ratio=0.05;, score=0.543 total time=   0.0s\n",
      "[CV 2/5] END ............alpha=1, l1_ratio=0.05;, score=0.591 total time=   0.0s\n",
      "[CV 3/5] END ............alpha=1, l1_ratio=0.05;, score=0.489 total time=   0.0s\n",
      "[CV 4/5] END ............alpha=1, l1_ratio=0.05;, score=0.486 total time=   0.0s\n",
      "[CV 5/5] END ............alpha=1, l1_ratio=0.05;, score=0.525 total time=   0.0s\n",
      "[CV 1/5] END .............alpha=1, l1_ratio=0.1;, score=0.545 total time=   0.0s\n",
      "[CV 2/5] END .............alpha=1, l1_ratio=0.1;, score=0.593 total time=   0.0s\n",
      "[CV 3/5] END .............alpha=1, l1_ratio=0.1;, score=0.491 total time=   0.0s\n",
      "[CV 4/5] END .............alpha=1, l1_ratio=0.1;, score=0.488 total time=   0.0s\n",
      "[CV 5/5] END .............alpha=1, l1_ratio=0.1;, score=0.528 total time=   0.0s\n",
      "[CV 1/5] END ............alpha=1, l1_ratio=0.15;, score=0.548 total time=   0.0s\n",
      "[CV 2/5] END ............alpha=1, l1_ratio=0.15;, score=0.595 total time=   0.0s\n",
      "[CV 3/5] END ............alpha=1, l1_ratio=0.15;, score=0.494 total time=   0.0s\n",
      "[CV 4/5] END ............alpha=1, l1_ratio=0.15;, score=0.490 total time=   0.0s\n",
      "[CV 5/5] END ............alpha=1, l1_ratio=0.15;, score=0.530 total time=   0.0s\n",
      "[CV 1/5] END .............alpha=1, l1_ratio=0.2;, score=0.551 total time=   0.0s\n",
      "[CV 2/5] END .............alpha=1, l1_ratio=0.2;, score=0.597 total time=   0.0s\n",
      "[CV 3/5] END .............alpha=1, l1_ratio=0.2;, score=0.497 total time=   0.0s\n",
      "[CV 4/5] END .............alpha=1, l1_ratio=0.2;, score=0.493 total time=   0.0s\n",
      "[CV 5/5] END .............alpha=1, l1_ratio=0.2;, score=0.533 total time=   0.0s\n"
     ]
    },
    {
     "data": {
      "text/html": [
       "<style>#sk-container-id-3 {color: black;background-color: white;}#sk-container-id-3 pre{padding: 0;}#sk-container-id-3 div.sk-toggleable {background-color: white;}#sk-container-id-3 label.sk-toggleable__label {cursor: pointer;display: block;width: 100%;margin-bottom: 0;padding: 0.3em;box-sizing: border-box;text-align: center;}#sk-container-id-3 label.sk-toggleable__label-arrow:before {content: \"▸\";float: left;margin-right: 0.25em;color: #696969;}#sk-container-id-3 label.sk-toggleable__label-arrow:hover:before {color: black;}#sk-container-id-3 div.sk-estimator:hover label.sk-toggleable__label-arrow:before {color: black;}#sk-container-id-3 div.sk-toggleable__content {max-height: 0;max-width: 0;overflow: hidden;text-align: left;background-color: #f0f8ff;}#sk-container-id-3 div.sk-toggleable__content pre {margin: 0.2em;color: black;border-radius: 0.25em;background-color: #f0f8ff;}#sk-container-id-3 input.sk-toggleable__control:checked~div.sk-toggleable__content {max-height: 200px;max-width: 100%;overflow: auto;}#sk-container-id-3 input.sk-toggleable__control:checked~label.sk-toggleable__label-arrow:before {content: \"▾\";}#sk-container-id-3 div.sk-estimator input.sk-toggleable__control:checked~label.sk-toggleable__label {background-color: #d4ebff;}#sk-container-id-3 div.sk-label input.sk-toggleable__control:checked~label.sk-toggleable__label {background-color: #d4ebff;}#sk-container-id-3 input.sk-hidden--visually {border: 0;clip: rect(1px 1px 1px 1px);clip: rect(1px, 1px, 1px, 1px);height: 1px;margin: -1px;overflow: hidden;padding: 0;position: absolute;width: 1px;}#sk-container-id-3 div.sk-estimator {font-family: monospace;background-color: #f0f8ff;border: 1px dotted black;border-radius: 0.25em;box-sizing: border-box;margin-bottom: 0.5em;}#sk-container-id-3 div.sk-estimator:hover {background-color: #d4ebff;}#sk-container-id-3 div.sk-parallel-item::after {content: \"\";width: 100%;border-bottom: 1px solid gray;flex-grow: 1;}#sk-container-id-3 div.sk-label:hover label.sk-toggleable__label {background-color: #d4ebff;}#sk-container-id-3 div.sk-serial::before {content: \"\";position: absolute;border-left: 1px solid gray;box-sizing: border-box;top: 0;bottom: 0;left: 50%;z-index: 0;}#sk-container-id-3 div.sk-serial {display: flex;flex-direction: column;align-items: center;background-color: white;padding-right: 0.2em;padding-left: 0.2em;position: relative;}#sk-container-id-3 div.sk-item {position: relative;z-index: 1;}#sk-container-id-3 div.sk-parallel {display: flex;align-items: stretch;justify-content: center;background-color: white;position: relative;}#sk-container-id-3 div.sk-item::before, #sk-container-id-3 div.sk-parallel-item::before {content: \"\";position: absolute;border-left: 1px solid gray;box-sizing: border-box;top: 0;bottom: 0;left: 50%;z-index: -1;}#sk-container-id-3 div.sk-parallel-item {display: flex;flex-direction: column;z-index: 1;position: relative;background-color: white;}#sk-container-id-3 div.sk-parallel-item:first-child::after {align-self: flex-end;width: 50%;}#sk-container-id-3 div.sk-parallel-item:last-child::after {align-self: flex-start;width: 50%;}#sk-container-id-3 div.sk-parallel-item:only-child::after {width: 0;}#sk-container-id-3 div.sk-dashed-wrapped {border: 1px dashed gray;margin: 0 0.4em 0.5em 0.4em;box-sizing: border-box;padding-bottom: 0.4em;background-color: white;}#sk-container-id-3 div.sk-label label {font-family: monospace;font-weight: bold;display: inline-block;line-height: 1.2em;}#sk-container-id-3 div.sk-label-container {text-align: center;}#sk-container-id-3 div.sk-container {/* jupyter's `normalize.less` sets `[hidden] { display: none; }` but bootstrap.min.css set `[hidden] { display: none !important; }` so we also need the `!important` here to be able to override the default hidden behavior on the sphinx rendered scikit-learn.org. See: https://github.com/scikit-learn/scikit-learn/issues/21755 */display: inline-block !important;position: relative;}#sk-container-id-3 div.sk-text-repr-fallback {display: none;}</style><div id=\"sk-container-id-3\" class=\"sk-top-container\"><div class=\"sk-text-repr-fallback\"><pre>GridSearchCV(cv=5, estimator=ElasticNet(),\n",
       "             param_grid={&#x27;alpha&#x27;: [0.01, 0.05, 0.1, 0.5, 1],\n",
       "                         &#x27;l1_ratio&#x27;: [0.05, 0.1, 0.15, 0.2]},\n",
       "             scoring=&#x27;r2&#x27;, verbose=3)</pre><b>In a Jupyter environment, please rerun this cell to show the HTML representation or trust the notebook. <br />On GitHub, the HTML representation is unable to render, please try loading this page with nbviewer.org.</b></div><div class=\"sk-container\" hidden><div class=\"sk-item sk-dashed-wrapped\"><div class=\"sk-label-container\"><div class=\"sk-label sk-toggleable\"><input class=\"sk-toggleable__control sk-hidden--visually\" id=\"sk-estimator-id-7\" type=\"checkbox\" ><label for=\"sk-estimator-id-7\" class=\"sk-toggleable__label sk-toggleable__label-arrow\">GridSearchCV</label><div class=\"sk-toggleable__content\"><pre>GridSearchCV(cv=5, estimator=ElasticNet(),\n",
       "             param_grid={&#x27;alpha&#x27;: [0.01, 0.05, 0.1, 0.5, 1],\n",
       "                         &#x27;l1_ratio&#x27;: [0.05, 0.1, 0.15, 0.2]},\n",
       "             scoring=&#x27;r2&#x27;, verbose=3)</pre></div></div></div><div class=\"sk-parallel\"><div class=\"sk-parallel-item\"><div class=\"sk-item\"><div class=\"sk-label-container\"><div class=\"sk-label sk-toggleable\"><input class=\"sk-toggleable__control sk-hidden--visually\" id=\"sk-estimator-id-8\" type=\"checkbox\" ><label for=\"sk-estimator-id-8\" class=\"sk-toggleable__label sk-toggleable__label-arrow\">estimator: ElasticNet</label><div class=\"sk-toggleable__content\"><pre>ElasticNet()</pre></div></div></div><div class=\"sk-serial\"><div class=\"sk-item\"><div class=\"sk-estimator sk-toggleable\"><input class=\"sk-toggleable__control sk-hidden--visually\" id=\"sk-estimator-id-9\" type=\"checkbox\" ><label for=\"sk-estimator-id-9\" class=\"sk-toggleable__label sk-toggleable__label-arrow\">ElasticNet</label><div class=\"sk-toggleable__content\"><pre>ElasticNet()</pre></div></div></div></div></div></div></div></div></div></div>"
      ],
      "text/plain": [
       "GridSearchCV(cv=5, estimator=ElasticNet(),\n",
       "             param_grid={'alpha': [0.01, 0.05, 0.1, 0.5, 1],\n",
       "                         'l1_ratio': [0.05, 0.1, 0.15, 0.2]},\n",
       "             scoring='r2', verbose=3)"
      ]
     },
     "execution_count": 72,
     "metadata": {},
     "output_type": "execute_result"
    }
   ],
   "source": [
    "gscv.fit(x_train, y_train)"
   ]
  },
  {
   "cell_type": "code",
   "execution_count": 73,
   "id": "4ffbe511",
   "metadata": {},
   "outputs": [
    {
     "data": {
      "text/plain": [
       "{'alpha': 0.01, 'l1_ratio': 0.2}"
      ]
     },
     "execution_count": 73,
     "metadata": {},
     "output_type": "execute_result"
    }
   ],
   "source": [
    "gscv.best_params_"
   ]
  },
  {
   "cell_type": "code",
   "execution_count": 74,
   "id": "bc74a857",
   "metadata": {},
   "outputs": [
    {
     "data": {
      "text/plain": [
       "0.7084704400635264"
      ]
     },
     "execution_count": 74,
     "metadata": {},
     "output_type": "execute_result"
    }
   ],
   "source": [
    "gscv.best_score_"
   ]
  },
  {
   "cell_type": "markdown",
   "id": "d848b338",
   "metadata": {},
   "source": [
    "## Gradient Descent"
   ]
  },
  {
   "cell_type": "code",
   "execution_count": 76,
   "id": "dd4bcef4",
   "metadata": {},
   "outputs": [
    {
     "name": "stdout",
     "output_type": "stream",
     "text": [
      "OLS : Train Score: 0.7143103932676483\n",
      "OLS : Test Score: 0.6970935894657551\n"
     ]
    }
   ],
   "source": [
    "# Check scores from OLS model\n",
    "\n",
    "print('OLS : Train Score:', model_lr.score(x_train, y_train))\n",
    "print('OLS : Test Score:', model_lr.score(x_test, y_test))"
   ]
  },
  {
   "cell_type": "code",
   "execution_count": 78,
   "id": "7a211439",
   "metadata": {},
   "outputs": [
    {
     "data": {
      "text/html": [
       "<div>\n",
       "<style scoped>\n",
       "    .dataframe tbody tr th:only-of-type {\n",
       "        vertical-align: middle;\n",
       "    }\n",
       "\n",
       "    .dataframe tbody tr th {\n",
       "        vertical-align: top;\n",
       "    }\n",
       "\n",
       "    .dataframe thead th {\n",
       "        text-align: right;\n",
       "    }\n",
       "</style>\n",
       "<table border=\"1\" class=\"dataframe\">\n",
       "  <thead>\n",
       "    <tr style=\"text-align: right;\">\n",
       "      <th></th>\n",
       "      <th>Coef_OLS</th>\n",
       "    </tr>\n",
       "  </thead>\n",
       "  <tbody>\n",
       "    <tr>\n",
       "      <th>Blast Furnace Slag</th>\n",
       "      <td>0.080493</td>\n",
       "    </tr>\n",
       "    <tr>\n",
       "      <th>Fly Ash</th>\n",
       "      <td>0.078325</td>\n",
       "    </tr>\n",
       "    <tr>\n",
       "      <th>Superplasticizer</th>\n",
       "      <td>0.201586</td>\n",
       "    </tr>\n",
       "    <tr>\n",
       "      <th>Age</th>\n",
       "      <td>0.239704</td>\n",
       "    </tr>\n",
       "    <tr>\n",
       "      <th>Cement Water Ratio</th>\n",
       "      <td>19.145826</td>\n",
       "    </tr>\n",
       "  </tbody>\n",
       "</table>\n",
       "</div>"
      ],
      "text/plain": [
       "                      Coef_OLS\n",
       "Blast Furnace Slag    0.080493\n",
       "Fly Ash               0.078325\n",
       "Superplasticizer      0.201586\n",
       "Age                   0.239704\n",
       "Cement Water Ratio   19.145826"
      ]
     },
     "execution_count": 78,
     "metadata": {},
     "output_type": "execute_result"
    }
   ],
   "source": [
    "pd.DataFrame({'Coef_OLS': model_lr.coef_}, index=x.columns)"
   ]
  },
  {
   "cell_type": "code",
   "execution_count": 80,
   "id": "fa3c9c2b",
   "metadata": {},
   "outputs": [],
   "source": [
    "from sklearn.linear_model import SGDRegressor\n",
    "from sklearn.preprocessing import StandardScaler"
   ]
  },
  {
   "cell_type": "code",
   "execution_count": 81,
   "id": "e2f1378a",
   "metadata": {},
   "outputs": [],
   "source": [
    "# Use the scaled data\n",
    "\n",
    "sc = StandardScaler()\n",
    "x_train_s = sc.fit_transform(x_train)\n",
    "x_test_s = sc.fit_transform(x_test)"
   ]
  },
  {
   "cell_type": "code",
   "execution_count": 82,
   "id": "c1bdc12d",
   "metadata": {},
   "outputs": [
    {
     "data": {
      "text/plain": [
       "array([[ 0.7720261 , -0.960937  , -1.19433411,  1.64707675, -0.09435479],\n",
       "       [-0.29613449,  1.77501163,  0.01532469, -0.69729158, -0.70833446],\n",
       "       [ 0.61027112,  1.12180843,  0.31633715, -0.26543426, -0.87609844],\n",
       "       ...,\n",
       "       [ 1.05278654, -0.960937  , -1.19433411, -0.26543426, -0.44119798],\n",
       "       [-0.5971143 ,  0.28461098,  0.98192994, -0.91322024,  1.86796838],\n",
       "       [ 1.20529838,  0.53687387,  0.5724782 , -0.26543426,  0.07841368]])"
      ]
     },
     "execution_count": 82,
     "metadata": {},
     "output_type": "execute_result"
    }
   ],
   "source": [
    "x_test_s  "
   ]
  },
  {
   "cell_type": "code",
   "execution_count": 83,
   "id": "b27770c6",
   "metadata": {},
   "outputs": [
    {
     "data": {
      "text/plain": [
       "array([[-0.33760439,  1.70597584, -0.02674197, -0.96703269, -0.38765184],\n",
       "       [-0.82708927, -0.84220766, -1.01155798, -0.28512335,  0.70701981],\n",
       "       [-0.82708927,  1.86789118,  0.99595157, -0.28512335, -0.29368454],\n",
       "       ...,\n",
       "       [-0.69913457,  1.35088197, -0.7154245 , -0.8579272 , -0.92430657],\n",
       "       [-0.82708927, -0.84220766, -1.01155798, -0.96703269, -0.37681285],\n",
       "       [-0.82708927,  0.62887331, -0.22525471,  0.47861512, -0.60777185]])"
      ]
     },
     "execution_count": 83,
     "metadata": {},
     "output_type": "execute_result"
    }
   ],
   "source": [
    "x_train_s"
   ]
  },
  {
   "cell_type": "code",
   "execution_count": 84,
   "id": "0e7811d3",
   "metadata": {},
   "outputs": [
    {
     "data": {
      "text/plain": [
       "array([75.68063415, 60.94829268,  6.38803415, 36.60487805,  1.52058921])"
      ]
     },
     "execution_count": 84,
     "metadata": {},
     "output_type": "execute_result"
    }
   ],
   "source": [
    "sc.mean_  # mean for training data set"
   ]
  },
  {
   "cell_type": "code",
   "execution_count": 85,
   "id": "e683767c",
   "metadata": {},
   "outputs": [
    {
     "data": {
      "text/plain": [
       "array([86.55065617, 63.42589843,  5.34861566, 32.41811411,  0.65980625])"
      ]
     },
     "execution_count": 85,
     "metadata": {},
     "output_type": "execute_result"
    }
   ],
   "source": [
    "sc.scale_"
   ]
  },
  {
   "cell_type": "code",
   "execution_count": 86,
   "id": "4e63eb31",
   "metadata": {},
   "outputs": [],
   "source": [
    "x_train_s = pd.DataFrame(x_train_s, columns=x.columns)\n",
    "x_test_s = pd.DataFrame(x_test_s, columns=x.columns)"
   ]
  },
  {
   "cell_type": "code",
   "execution_count": 87,
   "id": "3c75c419",
   "metadata": {},
   "outputs": [
    {
     "data": {
      "text/html": [
       "<div>\n",
       "<style scoped>\n",
       "    .dataframe tbody tr th:only-of-type {\n",
       "        vertical-align: middle;\n",
       "    }\n",
       "\n",
       "    .dataframe tbody tr th {\n",
       "        vertical-align: top;\n",
       "    }\n",
       "\n",
       "    .dataframe thead th {\n",
       "        text-align: right;\n",
       "    }\n",
       "</style>\n",
       "<table border=\"1\" class=\"dataframe\">\n",
       "  <thead>\n",
       "    <tr style=\"text-align: right;\">\n",
       "      <th></th>\n",
       "      <th>Blast Furnace Slag</th>\n",
       "      <th>Fly Ash</th>\n",
       "      <th>Superplasticizer</th>\n",
       "      <th>Age</th>\n",
       "      <th>Cement Water Ratio</th>\n",
       "    </tr>\n",
       "  </thead>\n",
       "  <tbody>\n",
       "    <tr>\n",
       "      <th>0</th>\n",
       "      <td>0.772026</td>\n",
       "      <td>-0.960937</td>\n",
       "      <td>-1.194334</td>\n",
       "      <td>1.647077</td>\n",
       "      <td>-0.094355</td>\n",
       "    </tr>\n",
       "    <tr>\n",
       "      <th>1</th>\n",
       "      <td>-0.296134</td>\n",
       "      <td>1.775012</td>\n",
       "      <td>0.015325</td>\n",
       "      <td>-0.697292</td>\n",
       "      <td>-0.708334</td>\n",
       "    </tr>\n",
       "    <tr>\n",
       "      <th>2</th>\n",
       "      <td>0.610271</td>\n",
       "      <td>1.121808</td>\n",
       "      <td>0.316337</td>\n",
       "      <td>-0.265434</td>\n",
       "      <td>-0.876098</td>\n",
       "    </tr>\n",
       "    <tr>\n",
       "      <th>3</th>\n",
       "      <td>0.610271</td>\n",
       "      <td>1.121808</td>\n",
       "      <td>0.316337</td>\n",
       "      <td>-0.697292</td>\n",
       "      <td>-0.876098</td>\n",
       "    </tr>\n",
       "    <tr>\n",
       "      <th>4</th>\n",
       "      <td>-0.874409</td>\n",
       "      <td>-0.960937</td>\n",
       "      <td>-1.194334</td>\n",
       "      <td>-0.697292</td>\n",
       "      <td>0.303457</td>\n",
       "    </tr>\n",
       "    <tr>\n",
       "      <th>...</th>\n",
       "      <td>...</td>\n",
       "      <td>...</td>\n",
       "      <td>...</td>\n",
       "      <td>...</td>\n",
       "      <td>...</td>\n",
       "    </tr>\n",
       "    <tr>\n",
       "      <th>200</th>\n",
       "      <td>0.893342</td>\n",
       "      <td>-0.960937</td>\n",
       "      <td>-1.194334</td>\n",
       "      <td>-0.265434</td>\n",
       "      <td>-1.499439</td>\n",
       "    </tr>\n",
       "    <tr>\n",
       "      <th>201</th>\n",
       "      <td>-0.874409</td>\n",
       "      <td>1.016173</td>\n",
       "      <td>0.258378</td>\n",
       "      <td>-1.036608</td>\n",
       "      <td>-0.522227</td>\n",
       "    </tr>\n",
       "    <tr>\n",
       "      <th>202</th>\n",
       "      <td>1.052787</td>\n",
       "      <td>-0.960937</td>\n",
       "      <td>-1.194334</td>\n",
       "      <td>-0.265434</td>\n",
       "      <td>-0.441198</td>\n",
       "    </tr>\n",
       "    <tr>\n",
       "      <th>203</th>\n",
       "      <td>-0.597114</td>\n",
       "      <td>0.284611</td>\n",
       "      <td>0.981930</td>\n",
       "      <td>-0.913220</td>\n",
       "      <td>1.867968</td>\n",
       "    </tr>\n",
       "    <tr>\n",
       "      <th>204</th>\n",
       "      <td>1.205298</td>\n",
       "      <td>0.536874</td>\n",
       "      <td>0.572478</td>\n",
       "      <td>-0.265434</td>\n",
       "      <td>0.078414</td>\n",
       "    </tr>\n",
       "  </tbody>\n",
       "</table>\n",
       "<p>205 rows × 5 columns</p>\n",
       "</div>"
      ],
      "text/plain": [
       "     Blast Furnace Slag    Fly Ash  Superplasticizer       Age  \\\n",
       "0               0.772026 -0.960937         -1.194334  1.647077   \n",
       "1              -0.296134  1.775012          0.015325 -0.697292   \n",
       "2               0.610271  1.121808          0.316337 -0.265434   \n",
       "3               0.610271  1.121808          0.316337 -0.697292   \n",
       "4              -0.874409 -0.960937         -1.194334 -0.697292   \n",
       "..                   ...       ...               ...       ...   \n",
       "200             0.893342 -0.960937         -1.194334 -0.265434   \n",
       "201            -0.874409  1.016173          0.258378 -1.036608   \n",
       "202             1.052787 -0.960937         -1.194334 -0.265434   \n",
       "203            -0.597114  0.284611          0.981930 -0.913220   \n",
       "204             1.205298  0.536874          0.572478 -0.265434   \n",
       "\n",
       "     Cement Water Ratio  \n",
       "0             -0.094355  \n",
       "1             -0.708334  \n",
       "2             -0.876098  \n",
       "3             -0.876098  \n",
       "4              0.303457  \n",
       "..                  ...  \n",
       "200           -1.499439  \n",
       "201           -0.522227  \n",
       "202           -0.441198  \n",
       "203            1.867968  \n",
       "204            0.078414  \n",
       "\n",
       "[205 rows x 5 columns]"
      ]
     },
     "execution_count": 87,
     "metadata": {},
     "output_type": "execute_result"
    }
   ],
   "source": [
    "x_test_s"
   ]
  },
  {
   "cell_type": "code",
   "execution_count": 102,
   "id": "61a2b442",
   "metadata": {},
   "outputs": [],
   "source": [
    "model_sgd = SGDRegressor(eta0=0.01, alpha=0.01)  # can put penalty also in this"
   ]
  },
  {
   "cell_type": "code",
   "execution_count": 103,
   "id": "3ae30367",
   "metadata": {},
   "outputs": [
    {
     "data": {
      "text/html": [
       "<style>#sk-container-id-8 {color: black;background-color: white;}#sk-container-id-8 pre{padding: 0;}#sk-container-id-8 div.sk-toggleable {background-color: white;}#sk-container-id-8 label.sk-toggleable__label {cursor: pointer;display: block;width: 100%;margin-bottom: 0;padding: 0.3em;box-sizing: border-box;text-align: center;}#sk-container-id-8 label.sk-toggleable__label-arrow:before {content: \"▸\";float: left;margin-right: 0.25em;color: #696969;}#sk-container-id-8 label.sk-toggleable__label-arrow:hover:before {color: black;}#sk-container-id-8 div.sk-estimator:hover label.sk-toggleable__label-arrow:before {color: black;}#sk-container-id-8 div.sk-toggleable__content {max-height: 0;max-width: 0;overflow: hidden;text-align: left;background-color: #f0f8ff;}#sk-container-id-8 div.sk-toggleable__content pre {margin: 0.2em;color: black;border-radius: 0.25em;background-color: #f0f8ff;}#sk-container-id-8 input.sk-toggleable__control:checked~div.sk-toggleable__content {max-height: 200px;max-width: 100%;overflow: auto;}#sk-container-id-8 input.sk-toggleable__control:checked~label.sk-toggleable__label-arrow:before {content: \"▾\";}#sk-container-id-8 div.sk-estimator input.sk-toggleable__control:checked~label.sk-toggleable__label {background-color: #d4ebff;}#sk-container-id-8 div.sk-label input.sk-toggleable__control:checked~label.sk-toggleable__label {background-color: #d4ebff;}#sk-container-id-8 input.sk-hidden--visually {border: 0;clip: rect(1px 1px 1px 1px);clip: rect(1px, 1px, 1px, 1px);height: 1px;margin: -1px;overflow: hidden;padding: 0;position: absolute;width: 1px;}#sk-container-id-8 div.sk-estimator {font-family: monospace;background-color: #f0f8ff;border: 1px dotted black;border-radius: 0.25em;box-sizing: border-box;margin-bottom: 0.5em;}#sk-container-id-8 div.sk-estimator:hover {background-color: #d4ebff;}#sk-container-id-8 div.sk-parallel-item::after {content: \"\";width: 100%;border-bottom: 1px solid gray;flex-grow: 1;}#sk-container-id-8 div.sk-label:hover label.sk-toggleable__label {background-color: #d4ebff;}#sk-container-id-8 div.sk-serial::before {content: \"\";position: absolute;border-left: 1px solid gray;box-sizing: border-box;top: 0;bottom: 0;left: 50%;z-index: 0;}#sk-container-id-8 div.sk-serial {display: flex;flex-direction: column;align-items: center;background-color: white;padding-right: 0.2em;padding-left: 0.2em;position: relative;}#sk-container-id-8 div.sk-item {position: relative;z-index: 1;}#sk-container-id-8 div.sk-parallel {display: flex;align-items: stretch;justify-content: center;background-color: white;position: relative;}#sk-container-id-8 div.sk-item::before, #sk-container-id-8 div.sk-parallel-item::before {content: \"\";position: absolute;border-left: 1px solid gray;box-sizing: border-box;top: 0;bottom: 0;left: 50%;z-index: -1;}#sk-container-id-8 div.sk-parallel-item {display: flex;flex-direction: column;z-index: 1;position: relative;background-color: white;}#sk-container-id-8 div.sk-parallel-item:first-child::after {align-self: flex-end;width: 50%;}#sk-container-id-8 div.sk-parallel-item:last-child::after {align-self: flex-start;width: 50%;}#sk-container-id-8 div.sk-parallel-item:only-child::after {width: 0;}#sk-container-id-8 div.sk-dashed-wrapped {border: 1px dashed gray;margin: 0 0.4em 0.5em 0.4em;box-sizing: border-box;padding-bottom: 0.4em;background-color: white;}#sk-container-id-8 div.sk-label label {font-family: monospace;font-weight: bold;display: inline-block;line-height: 1.2em;}#sk-container-id-8 div.sk-label-container {text-align: center;}#sk-container-id-8 div.sk-container {/* jupyter's `normalize.less` sets `[hidden] { display: none; }` but bootstrap.min.css set `[hidden] { display: none !important; }` so we also need the `!important` here to be able to override the default hidden behavior on the sphinx rendered scikit-learn.org. See: https://github.com/scikit-learn/scikit-learn/issues/21755 */display: inline-block !important;position: relative;}#sk-container-id-8 div.sk-text-repr-fallback {display: none;}</style><div id=\"sk-container-id-8\" class=\"sk-top-container\"><div class=\"sk-text-repr-fallback\"><pre>SGDRegressor(alpha=0.01)</pre><b>In a Jupyter environment, please rerun this cell to show the HTML representation or trust the notebook. <br />On GitHub, the HTML representation is unable to render, please try loading this page with nbviewer.org.</b></div><div class=\"sk-container\" hidden><div class=\"sk-item\"><div class=\"sk-estimator sk-toggleable\"><input class=\"sk-toggleable__control sk-hidden--visually\" id=\"sk-estimator-id-14\" type=\"checkbox\" checked><label for=\"sk-estimator-id-14\" class=\"sk-toggleable__label sk-toggleable__label-arrow\">SGDRegressor</label><div class=\"sk-toggleable__content\"><pre>SGDRegressor(alpha=0.01)</pre></div></div></div></div></div>"
      ],
      "text/plain": [
       "SGDRegressor(alpha=0.01)"
      ]
     },
     "execution_count": 103,
     "metadata": {},
     "output_type": "execute_result"
    }
   ],
   "source": [
    "model_sgd.fit(x_train_s, y_train)"
   ]
  },
  {
   "cell_type": "code",
   "execution_count": 104,
   "id": "3cf9ab56",
   "metadata": {},
   "outputs": [
    {
     "name": "stdout",
     "output_type": "stream",
     "text": [
      "SGD : Train Score: 0.7139224987208759\n",
      "SGD : Test Score: 0.7058579054091922\n"
     ]
    }
   ],
   "source": [
    "print('SGD : Train Score:', model_sgd.score(x_train_s, y_train))\n",
    "print('SGD : Test Score:', model_sgd.score(x_test_s, y_test))"
   ]
  },
  {
   "cell_type": "code",
   "execution_count": 106,
   "id": "d3848c33",
   "metadata": {},
   "outputs": [
    {
     "data": {
      "text/html": [
       "<div>\n",
       "<style scoped>\n",
       "    .dataframe tbody tr th:only-of-type {\n",
       "        vertical-align: middle;\n",
       "    }\n",
       "\n",
       "    .dataframe tbody tr th {\n",
       "        vertical-align: top;\n",
       "    }\n",
       "\n",
       "    .dataframe thead th {\n",
       "        text-align: right;\n",
       "    }\n",
       "</style>\n",
       "<table border=\"1\" class=\"dataframe\">\n",
       "  <thead>\n",
       "    <tr style=\"text-align: right;\">\n",
       "      <th></th>\n",
       "      <th>Coef_OLS</th>\n",
       "      <th>Coef_SGD</th>\n",
       "    </tr>\n",
       "  </thead>\n",
       "  <tbody>\n",
       "    <tr>\n",
       "      <th>Blast Furnace Slag</th>\n",
       "      <td>0.080493</td>\n",
       "      <td>6.630331</td>\n",
       "    </tr>\n",
       "    <tr>\n",
       "      <th>Fly Ash</th>\n",
       "      <td>0.078325</td>\n",
       "      <td>4.563701</td>\n",
       "    </tr>\n",
       "    <tr>\n",
       "      <th>Superplasticizer</th>\n",
       "      <td>0.201586</td>\n",
       "      <td>1.455355</td>\n",
       "    </tr>\n",
       "    <tr>\n",
       "      <th>Age</th>\n",
       "      <td>0.239704</td>\n",
       "      <td>8.673926</td>\n",
       "    </tr>\n",
       "    <tr>\n",
       "      <th>Cement Water Ratio</th>\n",
       "      <td>19.145826</td>\n",
       "      <td>11.788474</td>\n",
       "    </tr>\n",
       "  </tbody>\n",
       "</table>\n",
       "</div>"
      ],
      "text/plain": [
       "                      Coef_OLS   Coef_SGD\n",
       "Blast Furnace Slag    0.080493   6.630331\n",
       "Fly Ash               0.078325   4.563701\n",
       "Superplasticizer      0.201586   1.455355\n",
       "Age                   0.239704   8.673926\n",
       "Cement Water Ratio   19.145826  11.788474"
      ]
     },
     "execution_count": 106,
     "metadata": {},
     "output_type": "execute_result"
    }
   ],
   "source": [
    "pd.DataFrame({'Coef_OLS': model_lr.coef_, 'Coef_SGD' : model_sgd.coef_}, index=x.columns)"
   ]
  },
  {
   "cell_type": "code",
   "execution_count": null,
   "id": "c9f86f82",
   "metadata": {},
   "outputs": [],
   "source": [
    "# The coeff has changed so much in SGD because we have scaled the data"
   ]
  },
  {
   "cell_type": "code",
   "execution_count": null,
   "id": "b32e1044",
   "metadata": {},
   "outputs": [],
   "source": []
  },
  {
   "cell_type": "code",
   "execution_count": null,
   "id": "12fdae8b",
   "metadata": {},
   "outputs": [],
   "source": []
  },
  {
   "cell_type": "code",
   "execution_count": null,
   "id": "15e5b01c",
   "metadata": {},
   "outputs": [],
   "source": []
  }
 ],
 "metadata": {
  "kernelspec": {
   "display_name": "Python 3 (ipykernel)",
   "language": "python",
   "name": "python3"
  },
  "language_info": {
   "codemirror_mode": {
    "name": "ipython",
    "version": 3
   },
   "file_extension": ".py",
   "mimetype": "text/x-python",
   "name": "python",
   "nbconvert_exporter": "python",
   "pygments_lexer": "ipython3",
   "version": "3.11.7"
  }
 },
 "nbformat": 4,
 "nbformat_minor": 5
}
